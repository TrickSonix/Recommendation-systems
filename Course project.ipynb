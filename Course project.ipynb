{
 "cells": [
  {
   "cell_type": "code",
   "execution_count": 1,
   "metadata": {},
   "outputs": [],
   "source": [
    "import pandas as pd\n",
    "import numpy as np\n",
    "\n",
    "from scipy.sparse import csr_matrix\n",
    "\n",
    "from implicit.als import AlternatingLeastSquares\n",
    "from implicit.nearest_neighbours import bm25_weight, tfidf_weight\n",
    "\n",
    "from src.metrics import recall_at_k, money_precision_at_k\n",
    "from src.recommenders import MainRecommender\n",
    "from src.utils import prefilter_items, postfilter_items, DataTransformer"
   ]
  },
  {
   "cell_type": "code",
   "execution_count": 2,
   "metadata": {},
   "outputs": [],
   "source": [
    "data = pd.read_csv('data/retail_train.csv')\n",
    "item_features = pd.read_csv('data/product.csv')\n",
    "user_features = pd.read_csv('data/hh_demographic.csv')\n",
    "\n",
    "item_features.columns = [col.lower() for col in item_features.columns]\n",
    "user_features.columns = [col.lower() for col in user_features.columns]\n",
    "\n",
    "item_features.rename(columns={'product_id': 'item_id'}, inplace=True)\n",
    "user_features.rename(columns={'household_key': 'user_id'}, inplace=True)\n",
    "\n",
    "val_lvl_1_size_weeks = 6\n",
    "val_lvl_2_size_weeks = 3\n",
    "\n",
    "data_train_lvl_1 = data[data['week_no'] < data['week_no'].max() - (val_lvl_1_size_weeks + val_lvl_2_size_weeks)]\n",
    "data_val_lvl_1 = data[(data['week_no'] >= data['week_no'].max() - (val_lvl_1_size_weeks + val_lvl_2_size_weeks)) &\n",
    "                      (data['week_no'] < data['week_no'].max() - (val_lvl_2_size_weeks))]\n",
    "\n",
    "data_train_lvl_2 = data_val_lvl_1.copy()  # Для наглядности. Далее мы добавим изменения, и они будут отличаться\n",
    "data_val_lvl_2 = data[data['week_no'] >= data['week_no'].max() - val_lvl_2_size_weeks]"
   ]
  },
  {
   "cell_type": "code",
   "execution_count": 3,
   "metadata": {},
   "outputs": [],
   "source": [
    "prices = data.groupby('item_id')[['sales_value', 'quantity']].sum().reset_index()\n",
    "prices['price'] = prices['sales_value']/prices['quantity']\n",
    "prices.replace(np.inf, 0, inplace=True)\n",
    "prices = dict(zip(prices['item_id'], prices['price']))"
   ]
  },
  {
   "cell_type": "code",
   "execution_count": 9,
   "metadata": {},
   "outputs": [],
   "source": [
    "items_sub_comm = dict(zip(item_features['item_id'], item_features['sub_commodity_desc']))"
   ]
  },
  {
   "cell_type": "code",
   "execution_count": 10,
   "metadata": {},
   "outputs": [],
   "source": [
    "data_train_lvl_1_filter = prefilter_items(data_train_lvl_1, 6000)"
   ]
  },
  {
   "cell_type": "code",
   "execution_count": 13,
   "metadata": {},
   "outputs": [
    {
     "name": "stderr",
     "output_type": "stream",
     "text": [
      "WARNING:root:Intel MKL BLAS detected. Its highly recommend to set the environment variable 'export MKL_NUM_THREADS=1' to disable its internal multithreading\n"
     ]
    },
    {
     "data": {
      "application/vnd.jupyter.widget-view+json": {
       "model_id": "a85c9c4959124ae2b7d28480a1a09e27",
       "version_major": 2,
       "version_minor": 0
      },
      "text/plain": [
       "HBox(children=(FloatProgress(value=0.0), HTML(value='')))"
      ]
     },
     "metadata": {},
     "output_type": "display_data"
    },
    {
     "name": "stdout",
     "output_type": "stream",
     "text": [
      "\n"
     ]
    },
    {
     "data": {
      "application/vnd.jupyter.widget-view+json": {
       "model_id": "6bcc967a9f104fbeb5ff6c1008e92c1a",
       "version_major": 2,
       "version_minor": 0
      },
      "text/plain": [
       "HBox(children=(FloatProgress(value=0.0, max=6001.0), HTML(value='')))"
      ]
     },
     "metadata": {},
     "output_type": "display_data"
    },
    {
     "name": "stdout",
     "output_type": "stream",
     "text": [
      "\n"
     ]
    }
   ],
   "source": [
    "als_rec = MainRecommender(data_train_lvl_1_filter, weighting=None, n_factors=100, regularization=0.01, iterations=100, num_threads=8)"
   ]
  },
  {
   "cell_type": "code",
   "execution_count": 14,
   "metadata": {},
   "outputs": [],
   "source": [
    "result_lvl_1 = data_val_lvl_1.groupby('user_id')['item_id'].unique().reset_index()\n",
    "result_lvl_1.columns=['user_id', 'actual']"
   ]
  },
  {
   "cell_type": "code",
   "execution_count": 15,
   "metadata": {},
   "outputs": [],
   "source": [
    "result_lvl_1['als_recs'] = result_lvl_1['user_id'].apply(lambda x: als_rec.get_main_model_recommendations(x, N=6000))"
   ]
  },
  {
   "cell_type": "code",
   "execution_count": 16,
   "metadata": {},
   "outputs": [],
   "source": [
    "result_lvl_1 = postfilter_items(result_lvl_1, 'als_recs', items_sub_comm, prices, N=200)"
   ]
  },
  {
   "cell_type": "code",
   "execution_count": 17,
   "metadata": {},
   "outputs": [
    {
     "data": {
      "text/plain": [
       "0.13790611389256"
      ]
     },
     "execution_count": 17,
     "metadata": {},
     "output_type": "execute_result"
    }
   ],
   "source": [
    "recall_at_200_als = result_lvl_1.apply(lambda row: recall_at_k(row['postfilter_als_recs'], row['actual'], k=200), axis=1).mean()\n",
    "recall_at_200_als"
   ]
  },
  {
   "cell_type": "code",
   "execution_count": 18,
   "metadata": {},
   "outputs": [],
   "source": [
    "result_lvl_1.rename(columns={'postfilter_als_recs': 'recommendations'}, inplace=True)"
   ]
  },
  {
   "cell_type": "code",
   "execution_count": 19,
   "metadata": {},
   "outputs": [],
   "source": [
    "trans = DataTransformer()\n",
    "data_train_lvl_2 = trans.fit_transform(result_lvl_1, data_val_lvl_1, item_features, user_features, with_targets=True)"
   ]
  },
  {
   "cell_type": "code",
   "execution_count": 21,
   "metadata": {},
   "outputs": [
    {
     "data": {
      "text/html": [
       "<div>\n",
       "<style scoped>\n",
       "    .dataframe tbody tr th:only-of-type {\n",
       "        vertical-align: middle;\n",
       "    }\n",
       "\n",
       "    .dataframe tbody tr th {\n",
       "        vertical-align: top;\n",
       "    }\n",
       "\n",
       "    .dataframe thead th {\n",
       "        text-align: right;\n",
       "    }\n",
       "</style>\n",
       "<table border=\"1\" class=\"dataframe\">\n",
       "  <thead>\n",
       "    <tr style=\"text-align: right;\">\n",
       "      <th></th>\n",
       "      <th>user_id</th>\n",
       "      <th>item_id</th>\n",
       "      <th>target</th>\n",
       "      <th>manufacturer</th>\n",
       "      <th>department</th>\n",
       "      <th>brand</th>\n",
       "      <th>commodity_desc</th>\n",
       "      <th>sub_commodity_desc</th>\n",
       "      <th>curr_size_of_product</th>\n",
       "      <th>age_desc</th>\n",
       "      <th>...</th>\n",
       "      <th>mean_purchases</th>\n",
       "      <th>mean_item_purchases_per_sub_comm_desc</th>\n",
       "      <th>mean_item_purchases_per_comm_desc</th>\n",
       "      <th>price</th>\n",
       "      <th>mean_price_in_sub_comm_desc</th>\n",
       "      <th>purchases_department_diff</th>\n",
       "      <th>price/mean_price_sub_comm_desc</th>\n",
       "      <th>mean_sum_sub_comm_desc-price</th>\n",
       "      <th>mean_sum_comm_desc-price</th>\n",
       "      <th>mean_sum_department-price</th>\n",
       "    </tr>\n",
       "  </thead>\n",
       "  <tbody>\n",
       "    <tr>\n",
       "      <th>0</th>\n",
       "      <td>1</td>\n",
       "      <td>5569374</td>\n",
       "      <td>0.0</td>\n",
       "      <td>1208</td>\n",
       "      <td>GROCERY</td>\n",
       "      <td>National</td>\n",
       "      <td>SOFT DRINKS</td>\n",
       "      <td>SOFT DRINKS 12/18&amp;15PK CAN CAR</td>\n",
       "      <td>12 OZ</td>\n",
       "      <td>65+</td>\n",
       "      <td>...</td>\n",
       "      <td>3.833333</td>\n",
       "      <td>368.333333</td>\n",
       "      <td>1539.500000</td>\n",
       "      <td>4.105500</td>\n",
       "      <td>3.247610</td>\n",
       "      <td>-24557.066667</td>\n",
       "      <td>1.264161</td>\n",
       "      <td>-4.105500</td>\n",
       "      <td>-0.515500</td>\n",
       "      <td>-1.836844</td>\n",
       "    </tr>\n",
       "    <tr>\n",
       "      <th>1</th>\n",
       "      <td>1</td>\n",
       "      <td>885290</td>\n",
       "      <td>0.0</td>\n",
       "      <td>910</td>\n",
       "      <td>GROCERY</td>\n",
       "      <td>National</td>\n",
       "      <td>BAKED BREAD/BUNS/ROLLS</td>\n",
       "      <td>MAINSTREAM WHEAT/MULTIGRAIN BR</td>\n",
       "      <td>20 OZ</td>\n",
       "      <td>65+</td>\n",
       "      <td>...</td>\n",
       "      <td>12.500000</td>\n",
       "      <td>194.500000</td>\n",
       "      <td>1053.166667</td>\n",
       "      <td>1.962464</td>\n",
       "      <td>1.316061</td>\n",
       "      <td>-24557.066667</td>\n",
       "      <td>1.491165</td>\n",
       "      <td>-0.272464</td>\n",
       "      <td>0.465314</td>\n",
       "      <td>0.306192</td>\n",
       "    </tr>\n",
       "    <tr>\n",
       "      <th>2</th>\n",
       "      <td>1</td>\n",
       "      <td>1100972</td>\n",
       "      <td>0.0</td>\n",
       "      <td>586</td>\n",
       "      <td>GROCERY</td>\n",
       "      <td>National</td>\n",
       "      <td>CRACKERS/MISC BKD FD</td>\n",
       "      <td>BUTTER SPRAY CRACKER (RITZ/CLU</td>\n",
       "      <td>16 OZ</td>\n",
       "      <td>65+</td>\n",
       "      <td>...</td>\n",
       "      <td>8.833333</td>\n",
       "      <td>83.666667</td>\n",
       "      <td>385.000000</td>\n",
       "      <td>2.092000</td>\n",
       "      <td>2.155000</td>\n",
       "      <td>-24557.066667</td>\n",
       "      <td>0.970766</td>\n",
       "      <td>-2.092000</td>\n",
       "      <td>0.193000</td>\n",
       "      <td>0.176656</td>\n",
       "    </tr>\n",
       "    <tr>\n",
       "      <th>3</th>\n",
       "      <td>1</td>\n",
       "      <td>965766</td>\n",
       "      <td>0.0</td>\n",
       "      <td>317</td>\n",
       "      <td>GROCERY</td>\n",
       "      <td>National</td>\n",
       "      <td>CHEESE</td>\n",
       "      <td>IWS SINGLE CHEESE</td>\n",
       "      <td>12 OZ</td>\n",
       "      <td>65+</td>\n",
       "      <td>...</td>\n",
       "      <td>37.333333</td>\n",
       "      <td>139.833333</td>\n",
       "      <td>1157.000000</td>\n",
       "      <td>1.744991</td>\n",
       "      <td>2.010113</td>\n",
       "      <td>-24557.066667</td>\n",
       "      <td>0.868106</td>\n",
       "      <td>0.145009</td>\n",
       "      <td>1.003580</td>\n",
       "      <td>0.523665</td>\n",
       "    </tr>\n",
       "    <tr>\n",
       "      <th>4</th>\n",
       "      <td>1</td>\n",
       "      <td>940947</td>\n",
       "      <td>1.0</td>\n",
       "      <td>2082</td>\n",
       "      <td>MEAT-PCKGD</td>\n",
       "      <td>National</td>\n",
       "      <td>HEAT/SERVE</td>\n",
       "      <td>ENTREES</td>\n",
       "      <td>24 OZ</td>\n",
       "      <td>65+</td>\n",
       "      <td>...</td>\n",
       "      <td>21.000000</td>\n",
       "      <td>50.000000</td>\n",
       "      <td>86.500000</td>\n",
       "      <td>2.715891</td>\n",
       "      <td>3.206647</td>\n",
       "      <td>-1407.166667</td>\n",
       "      <td>0.846957</td>\n",
       "      <td>-0.005891</td>\n",
       "      <td>-0.005891</td>\n",
       "      <td>0.385776</td>\n",
       "    </tr>\n",
       "  </tbody>\n",
       "</table>\n",
       "<p>5 rows × 37 columns</p>\n",
       "</div>"
      ],
      "text/plain": [
       "   user_id  item_id  target  manufacturer  department     brand  \\\n",
       "0        1  5569374     0.0          1208     GROCERY  National   \n",
       "1        1   885290     0.0           910     GROCERY  National   \n",
       "2        1  1100972     0.0           586     GROCERY  National   \n",
       "3        1   965766     0.0           317     GROCERY  National   \n",
       "4        1   940947     1.0          2082  MEAT-PCKGD  National   \n",
       "\n",
       "           commodity_desc              sub_commodity_desc  \\\n",
       "0             SOFT DRINKS  SOFT DRINKS 12/18&15PK CAN CAR   \n",
       "1  BAKED BREAD/BUNS/ROLLS  MAINSTREAM WHEAT/MULTIGRAIN BR   \n",
       "2    CRACKERS/MISC BKD FD  BUTTER SPRAY CRACKER (RITZ/CLU   \n",
       "3                  CHEESE               IWS SINGLE CHEESE   \n",
       "4              HEAT/SERVE                         ENTREES   \n",
       "\n",
       "  curr_size_of_product age_desc  ... mean_purchases  \\\n",
       "0                12 OZ      65+  ...       3.833333   \n",
       "1                20 OZ      65+  ...      12.500000   \n",
       "2                16 OZ      65+  ...       8.833333   \n",
       "3                12 OZ      65+  ...      37.333333   \n",
       "4                24 OZ      65+  ...      21.000000   \n",
       "\n",
       "  mean_item_purchases_per_sub_comm_desc mean_item_purchases_per_comm_desc  \\\n",
       "0                            368.333333                       1539.500000   \n",
       "1                            194.500000                       1053.166667   \n",
       "2                             83.666667                        385.000000   \n",
       "3                            139.833333                       1157.000000   \n",
       "4                             50.000000                         86.500000   \n",
       "\n",
       "      price mean_price_in_sub_comm_desc purchases_department_diff  \\\n",
       "0  4.105500                    3.247610             -24557.066667   \n",
       "1  1.962464                    1.316061             -24557.066667   \n",
       "2  2.092000                    2.155000             -24557.066667   \n",
       "3  1.744991                    2.010113             -24557.066667   \n",
       "4  2.715891                    3.206647              -1407.166667   \n",
       "\n",
       "   price/mean_price_sub_comm_desc  mean_sum_sub_comm_desc-price  \\\n",
       "0                        1.264161                     -4.105500   \n",
       "1                        1.491165                     -0.272464   \n",
       "2                        0.970766                     -2.092000   \n",
       "3                        0.868106                      0.145009   \n",
       "4                        0.846957                     -0.005891   \n",
       "\n",
       "   mean_sum_comm_desc-price  mean_sum_department-price  \n",
       "0                 -0.515500                  -1.836844  \n",
       "1                  0.465314                   0.306192  \n",
       "2                  0.193000                   0.176656  \n",
       "3                  1.003580                   0.523665  \n",
       "4                 -0.005891                   0.385776  \n",
       "\n",
       "[5 rows x 37 columns]"
      ]
     },
     "execution_count": 21,
     "metadata": {},
     "output_type": "execute_result"
    }
   ],
   "source": [
    "data_train_lvl_2.head()"
   ]
  },
  {
   "cell_type": "code",
   "execution_count": 22,
   "metadata": {},
   "outputs": [],
   "source": [
    "from catboost import CatBoostClassifier"
   ]
  },
  {
   "cell_type": "code",
   "execution_count": 24,
   "metadata": {},
   "outputs": [],
   "source": [
    "def get_recs_from_lvl_2_model(data, predictions):\n",
    "    data_with_preds = data.copy()\n",
    "    data_with_preds['predictions'] = predictions\n",
    "    user_id_list = []\n",
    "    recs = []\n",
    "    sorted_data = data_with_preds.sort_values(['user_id', 'predictions'], ascending=False)\n",
    "    for user_id in data_with_preds['user_id'].unique():\n",
    "        user_id_list.append(user_id)\n",
    "        recs.append(sorted_data[sorted_data['user_id']==user_id]['item_id'].tolist())\n",
    "        \n",
    "    result = pd.DataFrame({'user_id':user_id_list, 'catboost_recs': recs})\n",
    "    return result"
   ]
  },
  {
   "cell_type": "code",
   "execution_count": 25,
   "metadata": {},
   "outputs": [],
   "source": [
    "from sklearn.model_selection import GridSearchCV"
   ]
  },
  {
   "cell_type": "code",
   "execution_count": 26,
   "metadata": {},
   "outputs": [],
   "source": [
    "y = data_train_lvl_2['target']\n",
    "X = data_train_lvl_2.drop('target', axis=1)"
   ]
  },
  {
   "cell_type": "code",
   "execution_count": 27,
   "metadata": {},
   "outputs": [
    {
     "name": "stdout",
     "output_type": "stream",
     "text": [
      "<class 'pandas.core.frame.DataFrame'>\n",
      "Int64Index: 437953 entries, 0 to 437952\n",
      "Data columns (total 37 columns):\n",
      " #   Column                                 Non-Null Count   Dtype  \n",
      "---  ------                                 --------------   -----  \n",
      " 0   user_id                                437953 non-null  int64  \n",
      " 1   item_id                                437953 non-null  int64  \n",
      " 2   target                                 437953 non-null  float64\n",
      " 3   manufacturer                           437953 non-null  int64  \n",
      " 4   department                             437953 non-null  object \n",
      " 5   brand                                  437953 non-null  object \n",
      " 6   commodity_desc                         437953 non-null  object \n",
      " 7   sub_commodity_desc                     437953 non-null  object \n",
      " 8   curr_size_of_product                   437953 non-null  object \n",
      " 9   age_desc                               437953 non-null  object \n",
      " 10  marital_status_code                    437953 non-null  object \n",
      " 11  income_desc                            437953 non-null  object \n",
      " 12  homeowner_desc                         437953 non-null  object \n",
      " 13  hh_comp_desc                           437953 non-null  object \n",
      " 14  household_size_desc                    437953 non-null  object \n",
      " 15  kid_category_desc                      437953 non-null  object \n",
      " 16  mean_check                             437953 non-null  float64\n",
      " 17  mean_sum_purchase_sub_comm_desc        437953 non-null  float64\n",
      " 18  mean_sum_purchase_comm_desc            437953 non-null  float64\n",
      " 19  mean_sum_purchase_department           437953 non-null  float64\n",
      " 20  purchases_in_sub_commodity_desc        437953 non-null  float64\n",
      " 21  purchases_in_commodity_desc            437953 non-null  float64\n",
      " 22  purchases_in_department                437953 non-null  float64\n",
      " 23  frequency                              437953 non-null  float64\n",
      " 24  weekend_purchases_frac                 437953 non-null  float64\n",
      " 25  mean_sum_purchases_per_month           437953 non-null  float64\n",
      " 26  mean_quantity_per_basket               437953 non-null  float64\n",
      " 27  mean_purchases                         437953 non-null  float64\n",
      " 28  mean_item_purchases_per_sub_comm_desc  437953 non-null  float64\n",
      " 29  mean_item_purchases_per_comm_desc      437953 non-null  float64\n",
      " 30  price                                  437953 non-null  float64\n",
      " 31  mean_price_in_sub_comm_desc            437953 non-null  float64\n",
      " 32  purchases_department_diff              437953 non-null  float64\n",
      " 33  price/mean_price_sub_comm_desc         437953 non-null  float64\n",
      " 34  mean_sum_sub_comm_desc-price           437953 non-null  float64\n",
      " 35  mean_sum_comm_desc-price               437953 non-null  float64\n",
      " 36  mean_sum_department-price              437953 non-null  float64\n",
      "dtypes: float64(22), int64(3), object(12)\n",
      "memory usage: 127.0+ MB\n"
     ]
    }
   ],
   "source": [
    "data_train_lvl_2.info()"
   ]
  },
  {
   "cell_type": "code",
   "execution_count": 28,
   "metadata": {},
   "outputs": [],
   "source": [
    "cat_features = ['department', 'brand', 'commodity_desc', 'sub_commodity_desc', 'curr_size_of_product',\n",
    "                'age_desc', 'marital_status_code', 'income_desc', 'homeowner_desc', 'hh_comp_desc', 'household_size_desc', \n",
    "                'kid_category_desc']"
   ]
  },
  {
   "cell_type": "code",
   "execution_count": 32,
   "metadata": {},
   "outputs": [],
   "source": [
    "class_1_weight = len(y[y==0])/len(y[y==1])"
   ]
  },
  {
   "cell_type": "code",
   "execution_count": 50,
   "metadata": {},
   "outputs": [],
   "source": [
    "param_grid = {'n_estimators': [100, 300, 500], 'max_depth': [None, 5, 7, 9]}"
   ]
  },
  {
   "cell_type": "code",
   "execution_count": 54,
   "metadata": {},
   "outputs": [],
   "source": [
    "estimator = CatBoostClassifier(n_estimators=300, max_depth=7, class_weights=[1, class_1_weight], cat_features=cat_features)"
   ]
  },
  {
   "cell_type": "code",
   "execution_count": 55,
   "metadata": {},
   "outputs": [
    {
     "name": "stdout",
     "output_type": "stream",
     "text": [
      "Learning rate set to 0.417161\n",
      "0:\tlearn: 0.2312480\ttotal: 441ms\tremaining: 2m 11s\n",
      "1:\tlearn: 0.1550495\ttotal: 748ms\tremaining: 1m 51s\n",
      "2:\tlearn: 0.1250624\ttotal: 1.08s\tremaining: 1m 47s\n",
      "3:\tlearn: 0.1138271\ttotal: 1.38s\tremaining: 1m 42s\n",
      "4:\tlearn: 0.1074210\ttotal: 1.66s\tremaining: 1m 37s\n",
      "5:\tlearn: 0.1045224\ttotal: 1.96s\tremaining: 1m 35s\n",
      "6:\tlearn: 0.1017963\ttotal: 2.27s\tremaining: 1m 34s\n",
      "7:\tlearn: 0.0998140\ttotal: 2.56s\tremaining: 1m 33s\n",
      "8:\tlearn: 0.0986940\ttotal: 2.85s\tremaining: 1m 32s\n",
      "9:\tlearn: 0.0972053\ttotal: 3.13s\tremaining: 1m 30s\n",
      "10:\tlearn: 0.0958768\ttotal: 3.43s\tremaining: 1m 30s\n",
      "11:\tlearn: 0.0955027\ttotal: 3.72s\tremaining: 1m 29s\n",
      "12:\tlearn: 0.0946691\ttotal: 4.02s\tremaining: 1m 28s\n",
      "13:\tlearn: 0.0940645\ttotal: 4.33s\tremaining: 1m 28s\n",
      "14:\tlearn: 0.0932882\ttotal: 4.62s\tremaining: 1m 27s\n",
      "15:\tlearn: 0.0923783\ttotal: 4.92s\tremaining: 1m 27s\n",
      "16:\tlearn: 0.0918869\ttotal: 5.22s\tremaining: 1m 26s\n",
      "17:\tlearn: 0.0909534\ttotal: 5.52s\tremaining: 1m 26s\n",
      "18:\tlearn: 0.0905134\ttotal: 5.8s\tremaining: 1m 25s\n",
      "19:\tlearn: 0.0904486\ttotal: 5.89s\tremaining: 1m 22s\n",
      "20:\tlearn: 0.0901856\ttotal: 6.19s\tremaining: 1m 22s\n",
      "21:\tlearn: 0.0896539\ttotal: 6.46s\tremaining: 1m 21s\n",
      "22:\tlearn: 0.0891434\ttotal: 6.74s\tremaining: 1m 21s\n",
      "23:\tlearn: 0.0887099\ttotal: 7.04s\tremaining: 1m 20s\n",
      "24:\tlearn: 0.0885146\ttotal: 7.15s\tremaining: 1m 18s\n",
      "25:\tlearn: 0.0884889\ttotal: 7.22s\tremaining: 1m 16s\n",
      "26:\tlearn: 0.0884503\ttotal: 7.38s\tremaining: 1m 14s\n",
      "27:\tlearn: 0.0883334\ttotal: 7.69s\tremaining: 1m 14s\n",
      "28:\tlearn: 0.0878528\ttotal: 7.99s\tremaining: 1m 14s\n",
      "29:\tlearn: 0.0874912\ttotal: 8.27s\tremaining: 1m 14s\n",
      "30:\tlearn: 0.0869242\ttotal: 8.56s\tremaining: 1m 14s\n",
      "31:\tlearn: 0.0867017\ttotal: 8.88s\tremaining: 1m 14s\n",
      "32:\tlearn: 0.0861398\ttotal: 9.18s\tremaining: 1m 14s\n",
      "33:\tlearn: 0.0857750\ttotal: 9.49s\tremaining: 1m 14s\n",
      "34:\tlearn: 0.0854271\ttotal: 9.77s\tremaining: 1m 14s\n",
      "35:\tlearn: 0.0851748\ttotal: 10.1s\tremaining: 1m 13s\n",
      "36:\tlearn: 0.0848581\ttotal: 10.4s\tremaining: 1m 13s\n",
      "37:\tlearn: 0.0846659\ttotal: 10.7s\tremaining: 1m 13s\n",
      "38:\tlearn: 0.0843305\ttotal: 10.9s\tremaining: 1m 13s\n",
      "39:\tlearn: 0.0840898\ttotal: 11.2s\tremaining: 1m 13s\n",
      "40:\tlearn: 0.0839522\ttotal: 11.5s\tremaining: 1m 12s\n",
      "41:\tlearn: 0.0836663\ttotal: 11.8s\tremaining: 1m 12s\n",
      "42:\tlearn: 0.0833482\ttotal: 12.1s\tremaining: 1m 12s\n",
      "43:\tlearn: 0.0831506\ttotal: 12.4s\tremaining: 1m 11s\n",
      "44:\tlearn: 0.0827976\ttotal: 12.6s\tremaining: 1m 11s\n",
      "45:\tlearn: 0.0826321\ttotal: 12.9s\tremaining: 1m 11s\n",
      "46:\tlearn: 0.0823763\ttotal: 13.2s\tremaining: 1m 11s\n",
      "47:\tlearn: 0.0820850\ttotal: 13.5s\tremaining: 1m 10s\n",
      "48:\tlearn: 0.0818918\ttotal: 13.8s\tremaining: 1m 10s\n",
      "49:\tlearn: 0.0815475\ttotal: 14.1s\tremaining: 1m 10s\n",
      "50:\tlearn: 0.0813791\ttotal: 14.4s\tremaining: 1m 10s\n",
      "51:\tlearn: 0.0811524\ttotal: 14.7s\tremaining: 1m 9s\n",
      "52:\tlearn: 0.0807194\ttotal: 14.9s\tremaining: 1m 9s\n",
      "53:\tlearn: 0.0805432\ttotal: 15.2s\tremaining: 1m 9s\n",
      "54:\tlearn: 0.0801782\ttotal: 15.5s\tremaining: 1m 9s\n",
      "55:\tlearn: 0.0800119\ttotal: 15.8s\tremaining: 1m 8s\n",
      "56:\tlearn: 0.0798089\ttotal: 16.1s\tremaining: 1m 8s\n",
      "57:\tlearn: 0.0795835\ttotal: 16.4s\tremaining: 1m 8s\n",
      "58:\tlearn: 0.0792404\ttotal: 16.7s\tremaining: 1m 8s\n",
      "59:\tlearn: 0.0790716\ttotal: 17s\tremaining: 1m 7s\n",
      "60:\tlearn: 0.0789393\ttotal: 17.2s\tremaining: 1m 7s\n",
      "61:\tlearn: 0.0787016\ttotal: 17.6s\tremaining: 1m 7s\n",
      "62:\tlearn: 0.0785912\ttotal: 17.9s\tremaining: 1m 7s\n",
      "63:\tlearn: 0.0784093\ttotal: 18.2s\tremaining: 1m 7s\n",
      "64:\tlearn: 0.0782191\ttotal: 18.5s\tremaining: 1m 6s\n",
      "65:\tlearn: 0.0779785\ttotal: 18.8s\tremaining: 1m 6s\n",
      "66:\tlearn: 0.0776549\ttotal: 19.1s\tremaining: 1m 6s\n",
      "67:\tlearn: 0.0775480\ttotal: 19.4s\tremaining: 1m 6s\n",
      "68:\tlearn: 0.0774327\ttotal: 19.8s\tremaining: 1m 6s\n",
      "69:\tlearn: 0.0773391\ttotal: 20.1s\tremaining: 1m 6s\n",
      "70:\tlearn: 0.0771332\ttotal: 20.4s\tremaining: 1m 5s\n",
      "71:\tlearn: 0.0769561\ttotal: 20.7s\tremaining: 1m 5s\n",
      "72:\tlearn: 0.0766985\ttotal: 21s\tremaining: 1m 5s\n",
      "73:\tlearn: 0.0766984\ttotal: 21.3s\tremaining: 1m 5s\n",
      "74:\tlearn: 0.0766127\ttotal: 21.6s\tremaining: 1m 4s\n",
      "75:\tlearn: 0.0764216\ttotal: 21.9s\tremaining: 1m 4s\n",
      "76:\tlearn: 0.0762264\ttotal: 22.2s\tremaining: 1m 4s\n",
      "77:\tlearn: 0.0760784\ttotal: 22.5s\tremaining: 1m 4s\n",
      "78:\tlearn: 0.0759692\ttotal: 22.8s\tremaining: 1m 3s\n",
      "79:\tlearn: 0.0759689\ttotal: 23.1s\tremaining: 1m 3s\n",
      "80:\tlearn: 0.0757985\ttotal: 23.4s\tremaining: 1m 3s\n",
      "81:\tlearn: 0.0757238\ttotal: 23.7s\tremaining: 1m 2s\n",
      "82:\tlearn: 0.0755512\ttotal: 24s\tremaining: 1m 2s\n",
      "83:\tlearn: 0.0754104\ttotal: 24.3s\tremaining: 1m 2s\n",
      "84:\tlearn: 0.0753089\ttotal: 24.6s\tremaining: 1m 2s\n",
      "85:\tlearn: 0.0751194\ttotal: 24.9s\tremaining: 1m 1s\n",
      "86:\tlearn: 0.0750173\ttotal: 25.2s\tremaining: 1m 1s\n",
      "87:\tlearn: 0.0746906\ttotal: 25.5s\tremaining: 1m 1s\n",
      "88:\tlearn: 0.0745862\ttotal: 25.7s\tremaining: 1m 1s\n",
      "89:\tlearn: 0.0744337\ttotal: 26s\tremaining: 1m\n",
      "90:\tlearn: 0.0742142\ttotal: 26.3s\tremaining: 1m\n",
      "91:\tlearn: 0.0740721\ttotal: 26.6s\tremaining: 1m\n",
      "92:\tlearn: 0.0740280\ttotal: 26.9s\tremaining: 59.8s\n",
      "93:\tlearn: 0.0738483\ttotal: 27.2s\tremaining: 59.5s\n",
      "94:\tlearn: 0.0737310\ttotal: 27.4s\tremaining: 59.2s\n",
      "95:\tlearn: 0.0736082\ttotal: 27.7s\tremaining: 58.9s\n",
      "96:\tlearn: 0.0734756\ttotal: 28s\tremaining: 58.6s\n",
      "97:\tlearn: 0.0733255\ttotal: 28.3s\tremaining: 58.3s\n",
      "98:\tlearn: 0.0733070\ttotal: 28.6s\tremaining: 58s\n",
      "99:\tlearn: 0.0732320\ttotal: 28.9s\tremaining: 57.8s\n",
      "100:\tlearn: 0.0730696\ttotal: 29.2s\tremaining: 57.5s\n",
      "101:\tlearn: 0.0730119\ttotal: 29.5s\tremaining: 57.3s\n",
      "102:\tlearn: 0.0729366\ttotal: 29.8s\tremaining: 56.9s\n",
      "103:\tlearn: 0.0728473\ttotal: 30.1s\tremaining: 56.6s\n",
      "104:\tlearn: 0.0727487\ttotal: 30.3s\tremaining: 56.3s\n",
      "105:\tlearn: 0.0727027\ttotal: 30.6s\tremaining: 56s\n",
      "106:\tlearn: 0.0726557\ttotal: 30.9s\tremaining: 55.7s\n",
      "107:\tlearn: 0.0724561\ttotal: 31.2s\tremaining: 55.4s\n",
      "108:\tlearn: 0.0723317\ttotal: 31.4s\tremaining: 55.1s\n",
      "109:\tlearn: 0.0721966\ttotal: 31.7s\tremaining: 54.8s\n",
      "110:\tlearn: 0.0720016\ttotal: 32s\tremaining: 54.5s\n",
      "111:\tlearn: 0.0718981\ttotal: 32.3s\tremaining: 54.2s\n",
      "112:\tlearn: 0.0716998\ttotal: 32.6s\tremaining: 53.9s\n",
      "113:\tlearn: 0.0714450\ttotal: 32.9s\tremaining: 53.6s\n",
      "114:\tlearn: 0.0712929\ttotal: 33.2s\tremaining: 53.4s\n",
      "115:\tlearn: 0.0710977\ttotal: 33.5s\tremaining: 53.1s\n",
      "116:\tlearn: 0.0710687\ttotal: 33.8s\tremaining: 52.8s\n",
      "117:\tlearn: 0.0708680\ttotal: 34.1s\tremaining: 52.5s\n",
      "118:\tlearn: 0.0707399\ttotal: 34.4s\tremaining: 52.3s\n",
      "119:\tlearn: 0.0707041\ttotal: 34.7s\tremaining: 52s\n",
      "120:\tlearn: 0.0706265\ttotal: 35s\tremaining: 51.8s\n",
      "121:\tlearn: 0.0705179\ttotal: 35.3s\tremaining: 51.5s\n",
      "122:\tlearn: 0.0703019\ttotal: 35.6s\tremaining: 51.2s\n",
      "123:\tlearn: 0.0702349\ttotal: 35.9s\tremaining: 51s\n",
      "124:\tlearn: 0.0701641\ttotal: 36.2s\tremaining: 50.7s\n",
      "125:\tlearn: 0.0700351\ttotal: 36.5s\tremaining: 50.4s\n",
      "126:\tlearn: 0.0698311\ttotal: 36.8s\tremaining: 50.2s\n",
      "127:\tlearn: 0.0698310\ttotal: 37.1s\tremaining: 49.9s\n",
      "128:\tlearn: 0.0697380\ttotal: 37.4s\tremaining: 49.6s\n",
      "129:\tlearn: 0.0696279\ttotal: 37.7s\tremaining: 49.3s\n",
      "130:\tlearn: 0.0694245\ttotal: 38s\tremaining: 49.1s\n",
      "131:\tlearn: 0.0692969\ttotal: 38.3s\tremaining: 48.8s\n",
      "132:\tlearn: 0.0692968\ttotal: 38.6s\tremaining: 48.4s\n",
      "133:\tlearn: 0.0691705\ttotal: 38.8s\tremaining: 48.1s\n",
      "134:\tlearn: 0.0690366\ttotal: 39.1s\tremaining: 47.8s\n",
      "135:\tlearn: 0.0689555\ttotal: 39.4s\tremaining: 47.6s\n",
      "136:\tlearn: 0.0688894\ttotal: 39.7s\tremaining: 47.3s\n",
      "137:\tlearn: 0.0688417\ttotal: 40s\tremaining: 47s\n",
      "138:\tlearn: 0.0687382\ttotal: 40.4s\tremaining: 46.7s\n",
      "139:\tlearn: 0.0686005\ttotal: 40.7s\tremaining: 46.5s\n",
      "140:\tlearn: 0.0685552\ttotal: 41s\tremaining: 46.2s\n",
      "141:\tlearn: 0.0685552\ttotal: 41.2s\tremaining: 45.9s\n",
      "142:\tlearn: 0.0684431\ttotal: 41.5s\tremaining: 45.6s\n",
      "143:\tlearn: 0.0682445\ttotal: 41.8s\tremaining: 45.3s\n",
      "144:\tlearn: 0.0681367\ttotal: 42.1s\tremaining: 45s\n",
      "145:\tlearn: 0.0681057\ttotal: 42.4s\tremaining: 44.7s\n",
      "146:\tlearn: 0.0680190\ttotal: 42.7s\tremaining: 44.5s\n",
      "147:\tlearn: 0.0679925\ttotal: 43s\tremaining: 44.2s\n",
      "148:\tlearn: 0.0678550\ttotal: 43.3s\tremaining: 43.9s\n",
      "149:\tlearn: 0.0676589\ttotal: 43.6s\tremaining: 43.6s\n",
      "150:\tlearn: 0.0675737\ttotal: 43.9s\tremaining: 43.3s\n",
      "151:\tlearn: 0.0675737\ttotal: 44.2s\tremaining: 43s\n",
      "152:\tlearn: 0.0674195\ttotal: 44.5s\tremaining: 42.7s\n",
      "153:\tlearn: 0.0673819\ttotal: 44.7s\tremaining: 42.4s\n",
      "154:\tlearn: 0.0672390\ttotal: 45s\tremaining: 42.1s\n",
      "155:\tlearn: 0.0671368\ttotal: 45.3s\tremaining: 41.8s\n",
      "156:\tlearn: 0.0671351\ttotal: 45.6s\tremaining: 41.5s\n",
      "157:\tlearn: 0.0671271\ttotal: 45.9s\tremaining: 41.2s\n",
      "158:\tlearn: 0.0670153\ttotal: 46.2s\tremaining: 40.9s\n",
      "159:\tlearn: 0.0668887\ttotal: 46.5s\tremaining: 40.6s\n"
     ]
    },
    {
     "name": "stdout",
     "output_type": "stream",
     "text": [
      "160:\tlearn: 0.0667046\ttotal: 46.8s\tremaining: 40.4s\n",
      "161:\tlearn: 0.0665407\ttotal: 47.1s\tremaining: 40.1s\n",
      "162:\tlearn: 0.0664728\ttotal: 47.4s\tremaining: 39.8s\n",
      "163:\tlearn: 0.0664728\ttotal: 47.7s\tremaining: 39.5s\n",
      "164:\tlearn: 0.0663388\ttotal: 47.9s\tremaining: 39.2s\n",
      "165:\tlearn: 0.0663054\ttotal: 48.2s\tremaining: 38.9s\n",
      "166:\tlearn: 0.0661702\ttotal: 48.5s\tremaining: 38.6s\n",
      "167:\tlearn: 0.0660907\ttotal: 48.8s\tremaining: 38.4s\n",
      "168:\tlearn: 0.0658913\ttotal: 49.1s\tremaining: 38.1s\n",
      "169:\tlearn: 0.0658379\ttotal: 49.4s\tremaining: 37.8s\n",
      "170:\tlearn: 0.0657166\ttotal: 49.7s\tremaining: 37.5s\n",
      "171:\tlearn: 0.0655973\ttotal: 50s\tremaining: 37.2s\n",
      "172:\tlearn: 0.0655557\ttotal: 50.3s\tremaining: 36.9s\n",
      "173:\tlearn: 0.0654103\ttotal: 50.6s\tremaining: 36.6s\n",
      "174:\tlearn: 0.0653094\ttotal: 50.9s\tremaining: 36.3s\n",
      "175:\tlearn: 0.0651471\ttotal: 51.1s\tremaining: 36s\n",
      "176:\tlearn: 0.0651143\ttotal: 51.4s\tremaining: 35.7s\n",
      "177:\tlearn: 0.0649111\ttotal: 51.7s\tremaining: 35.4s\n",
      "178:\tlearn: 0.0648425\ttotal: 52s\tremaining: 35.1s\n",
      "179:\tlearn: 0.0648424\ttotal: 52.2s\tremaining: 34.8s\n",
      "180:\tlearn: 0.0647499\ttotal: 52.5s\tremaining: 34.5s\n",
      "181:\tlearn: 0.0646176\ttotal: 52.8s\tremaining: 34.3s\n",
      "182:\tlearn: 0.0645482\ttotal: 53.1s\tremaining: 34s\n",
      "183:\tlearn: 0.0645083\ttotal: 53.4s\tremaining: 33.7s\n",
      "184:\tlearn: 0.0643875\ttotal: 53.7s\tremaining: 33.4s\n",
      "185:\tlearn: 0.0643020\ttotal: 54s\tremaining: 33.1s\n",
      "186:\tlearn: 0.0641817\ttotal: 54.3s\tremaining: 32.8s\n",
      "187:\tlearn: 0.0640634\ttotal: 54.6s\tremaining: 32.5s\n",
      "188:\tlearn: 0.0639722\ttotal: 54.8s\tremaining: 32.2s\n",
      "189:\tlearn: 0.0638419\ttotal: 55.1s\tremaining: 31.9s\n",
      "190:\tlearn: 0.0637282\ttotal: 55.4s\tremaining: 31.6s\n",
      "191:\tlearn: 0.0636404\ttotal: 55.7s\tremaining: 31.3s\n",
      "192:\tlearn: 0.0635901\ttotal: 56s\tremaining: 31.1s\n",
      "193:\tlearn: 0.0635099\ttotal: 56.3s\tremaining: 30.8s\n",
      "194:\tlearn: 0.0634092\ttotal: 56.7s\tremaining: 30.5s\n",
      "195:\tlearn: 0.0633203\ttotal: 57s\tremaining: 30.2s\n",
      "196:\tlearn: 0.0632482\ttotal: 57.2s\tremaining: 29.9s\n",
      "197:\tlearn: 0.0631709\ttotal: 57.5s\tremaining: 29.6s\n",
      "198:\tlearn: 0.0630574\ttotal: 57.8s\tremaining: 29.3s\n",
      "199:\tlearn: 0.0629576\ttotal: 58.1s\tremaining: 29s\n",
      "200:\tlearn: 0.0628795\ttotal: 58.4s\tremaining: 28.7s\n",
      "201:\tlearn: 0.0627840\ttotal: 58.6s\tremaining: 28.5s\n",
      "202:\tlearn: 0.0627426\ttotal: 58.9s\tremaining: 28.2s\n",
      "203:\tlearn: 0.0626228\ttotal: 59.2s\tremaining: 27.9s\n",
      "204:\tlearn: 0.0626078\ttotal: 59.5s\tremaining: 27.6s\n",
      "205:\tlearn: 0.0625397\ttotal: 59.8s\tremaining: 27.3s\n",
      "206:\tlearn: 0.0624540\ttotal: 1m\tremaining: 27s\n",
      "207:\tlearn: 0.0623258\ttotal: 1m\tremaining: 26.7s\n",
      "208:\tlearn: 0.0622533\ttotal: 1m\tremaining: 26.4s\n",
      "209:\tlearn: 0.0622410\ttotal: 1m\tremaining: 26.1s\n",
      "210:\tlearn: 0.0622240\ttotal: 1m 1s\tremaining: 25.8s\n",
      "211:\tlearn: 0.0621794\ttotal: 1m 1s\tremaining: 25.6s\n",
      "212:\tlearn: 0.0621098\ttotal: 1m 1s\tremaining: 25.3s\n",
      "213:\tlearn: 0.0620858\ttotal: 1m 2s\tremaining: 25s\n",
      "214:\tlearn: 0.0620132\ttotal: 1m 2s\tremaining: 24.7s\n",
      "215:\tlearn: 0.0619405\ttotal: 1m 2s\tremaining: 24.4s\n",
      "216:\tlearn: 0.0618851\ttotal: 1m 3s\tremaining: 24.1s\n",
      "217:\tlearn: 0.0617421\ttotal: 1m 3s\tremaining: 23.8s\n",
      "218:\tlearn: 0.0616618\ttotal: 1m 3s\tremaining: 23.5s\n",
      "219:\tlearn: 0.0616120\ttotal: 1m 3s\tremaining: 23.3s\n",
      "220:\tlearn: 0.0616117\ttotal: 1m 4s\tremaining: 23s\n",
      "221:\tlearn: 0.0615834\ttotal: 1m 4s\tremaining: 22.7s\n",
      "222:\tlearn: 0.0615023\ttotal: 1m 4s\tremaining: 22.4s\n",
      "223:\tlearn: 0.0615021\ttotal: 1m 5s\tremaining: 22.1s\n",
      "224:\tlearn: 0.0613464\ttotal: 1m 5s\tremaining: 21.8s\n",
      "225:\tlearn: 0.0613372\ttotal: 1m 5s\tremaining: 21.5s\n",
      "226:\tlearn: 0.0612003\ttotal: 1m 5s\tremaining: 21.2s\n",
      "227:\tlearn: 0.0611141\ttotal: 1m 6s\tremaining: 20.9s\n",
      "228:\tlearn: 0.0610913\ttotal: 1m 6s\tremaining: 20.6s\n",
      "229:\tlearn: 0.0610056\ttotal: 1m 6s\tremaining: 20.3s\n",
      "230:\tlearn: 0.0609689\ttotal: 1m 7s\tremaining: 20s\n",
      "231:\tlearn: 0.0608282\ttotal: 1m 7s\tremaining: 19.7s\n",
      "232:\tlearn: 0.0607447\ttotal: 1m 7s\tremaining: 19.5s\n",
      "233:\tlearn: 0.0606757\ttotal: 1m 8s\tremaining: 19.2s\n",
      "234:\tlearn: 0.0605895\ttotal: 1m 8s\tremaining: 18.9s\n",
      "235:\tlearn: 0.0605307\ttotal: 1m 8s\tremaining: 18.6s\n",
      "236:\tlearn: 0.0604148\ttotal: 1m 8s\tremaining: 18.3s\n",
      "237:\tlearn: 0.0603551\ttotal: 1m 9s\tremaining: 18s\n",
      "238:\tlearn: 0.0603545\ttotal: 1m 9s\tremaining: 17.7s\n",
      "239:\tlearn: 0.0603426\ttotal: 1m 9s\tremaining: 17.4s\n",
      "240:\tlearn: 0.0603425\ttotal: 1m 10s\tremaining: 17.1s\n",
      "241:\tlearn: 0.0603423\ttotal: 1m 10s\tremaining: 16.9s\n",
      "242:\tlearn: 0.0603273\ttotal: 1m 10s\tremaining: 16.6s\n",
      "243:\tlearn: 0.0602240\ttotal: 1m 10s\tremaining: 16.3s\n",
      "244:\tlearn: 0.0601165\ttotal: 1m 11s\tremaining: 16s\n",
      "245:\tlearn: 0.0600992\ttotal: 1m 11s\tremaining: 15.7s\n",
      "246:\tlearn: 0.0600128\ttotal: 1m 11s\tremaining: 15.4s\n",
      "247:\tlearn: 0.0599503\ttotal: 1m 12s\tremaining: 15.1s\n",
      "248:\tlearn: 0.0599404\ttotal: 1m 12s\tremaining: 14.8s\n",
      "249:\tlearn: 0.0599367\ttotal: 1m 12s\tremaining: 14.5s\n",
      "250:\tlearn: 0.0598854\ttotal: 1m 13s\tremaining: 14.3s\n",
      "251:\tlearn: 0.0597942\ttotal: 1m 13s\tremaining: 14s\n",
      "252:\tlearn: 0.0597143\ttotal: 1m 13s\tremaining: 13.7s\n",
      "253:\tlearn: 0.0595978\ttotal: 1m 13s\tremaining: 13.4s\n",
      "254:\tlearn: 0.0594540\ttotal: 1m 14s\tremaining: 13.1s\n",
      "255:\tlearn: 0.0594018\ttotal: 1m 14s\tremaining: 12.8s\n",
      "256:\tlearn: 0.0593835\ttotal: 1m 14s\tremaining: 12.5s\n",
      "257:\tlearn: 0.0593442\ttotal: 1m 15s\tremaining: 12.2s\n",
      "258:\tlearn: 0.0592831\ttotal: 1m 15s\tremaining: 11.9s\n",
      "259:\tlearn: 0.0592541\ttotal: 1m 15s\tremaining: 11.6s\n",
      "260:\tlearn: 0.0590708\ttotal: 1m 15s\tremaining: 11.4s\n",
      "261:\tlearn: 0.0589671\ttotal: 1m 16s\tremaining: 11.1s\n",
      "262:\tlearn: 0.0588528\ttotal: 1m 16s\tremaining: 10.8s\n",
      "263:\tlearn: 0.0587539\ttotal: 1m 16s\tremaining: 10.5s\n",
      "264:\tlearn: 0.0587174\ttotal: 1m 17s\tremaining: 10.2s\n",
      "265:\tlearn: 0.0586459\ttotal: 1m 17s\tremaining: 9.9s\n",
      "266:\tlearn: 0.0585484\ttotal: 1m 17s\tremaining: 9.61s\n",
      "267:\tlearn: 0.0584613\ttotal: 1m 18s\tremaining: 9.32s\n",
      "268:\tlearn: 0.0584604\ttotal: 1m 18s\tremaining: 9.02s\n",
      "269:\tlearn: 0.0584602\ttotal: 1m 18s\tremaining: 8.7s\n",
      "270:\tlearn: 0.0584395\ttotal: 1m 18s\tremaining: 8.41s\n",
      "271:\tlearn: 0.0584394\ttotal: 1m 18s\tremaining: 8.11s\n",
      "272:\tlearn: 0.0583451\ttotal: 1m 19s\tremaining: 7.82s\n",
      "273:\tlearn: 0.0582904\ttotal: 1m 19s\tremaining: 7.53s\n",
      "274:\tlearn: 0.0582903\ttotal: 1m 19s\tremaining: 7.24s\n",
      "275:\tlearn: 0.0582901\ttotal: 1m 19s\tremaining: 6.95s\n",
      "276:\tlearn: 0.0582120\ttotal: 1m 20s\tremaining: 6.66s\n",
      "277:\tlearn: 0.0581141\ttotal: 1m 20s\tremaining: 6.37s\n",
      "278:\tlearn: 0.0579690\ttotal: 1m 20s\tremaining: 6.08s\n",
      "279:\tlearn: 0.0578954\ttotal: 1m 21s\tremaining: 5.79s\n",
      "280:\tlearn: 0.0578403\ttotal: 1m 21s\tremaining: 5.5s\n",
      "281:\tlearn: 0.0577131\ttotal: 1m 21s\tremaining: 5.21s\n",
      "282:\tlearn: 0.0576405\ttotal: 1m 22s\tremaining: 4.93s\n",
      "283:\tlearn: 0.0575786\ttotal: 1m 22s\tremaining: 4.64s\n",
      "284:\tlearn: 0.0575786\ttotal: 1m 22s\tremaining: 4.35s\n",
      "285:\tlearn: 0.0575785\ttotal: 1m 22s\tremaining: 4.06s\n",
      "286:\tlearn: 0.0575785\ttotal: 1m 23s\tremaining: 3.77s\n",
      "287:\tlearn: 0.0574604\ttotal: 1m 23s\tremaining: 3.48s\n",
      "288:\tlearn: 0.0574041\ttotal: 1m 23s\tremaining: 3.19s\n",
      "289:\tlearn: 0.0573182\ttotal: 1m 24s\tremaining: 2.9s\n",
      "290:\tlearn: 0.0572935\ttotal: 1m 24s\tremaining: 2.61s\n",
      "291:\tlearn: 0.0571915\ttotal: 1m 24s\tremaining: 2.32s\n",
      "292:\tlearn: 0.0571151\ttotal: 1m 24s\tremaining: 2.03s\n",
      "293:\tlearn: 0.0571101\ttotal: 1m 25s\tremaining: 1.74s\n",
      "294:\tlearn: 0.0570536\ttotal: 1m 25s\tremaining: 1.45s\n",
      "295:\tlearn: 0.0570214\ttotal: 1m 25s\tremaining: 1.16s\n",
      "296:\tlearn: 0.0569835\ttotal: 1m 26s\tremaining: 869ms\n",
      "297:\tlearn: 0.0569494\ttotal: 1m 26s\tremaining: 579ms\n",
      "298:\tlearn: 0.0569079\ttotal: 1m 26s\tremaining: 290ms\n",
      "299:\tlearn: 0.0567881\ttotal: 1m 26s\tremaining: 0us\n"
     ]
    },
    {
     "data": {
      "text/plain": [
       "<catboost.core.CatBoostClassifier at 0x23b5e4979d0>"
      ]
     },
     "execution_count": 55,
     "metadata": {},
     "output_type": "execute_result"
    }
   ],
   "source": [
    "estimator.fit(X, y)"
   ]
  },
  {
   "cell_type": "code",
   "execution_count": 56,
   "metadata": {},
   "outputs": [],
   "source": [
    "result_lvl_2 = data_val_lvl_2.groupby('user_id')['item_id'].unique().reset_index()\n",
    "result_lvl_2.columns=['user_id', 'actual']"
   ]
  },
  {
   "cell_type": "code",
   "execution_count": 57,
   "metadata": {},
   "outputs": [],
   "source": [
    "result_lvl_2['als_recs'] = result_lvl_2['user_id'].apply(lambda x: als_rec.get_main_model_recommendations(x, N=6000))"
   ]
  },
  {
   "cell_type": "code",
   "execution_count": 58,
   "metadata": {},
   "outputs": [],
   "source": [
    "result_lvl_2 = postfilter_items(result_lvl_2, 'als_recs', items_sub_comm, prices, N=200)"
   ]
  },
  {
   "cell_type": "code",
   "execution_count": 59,
   "metadata": {},
   "outputs": [],
   "source": [
    "result_lvl_2.rename(columns={'postfilter_als_recs': 'recommendations'}, inplace=True)"
   ]
  },
  {
   "cell_type": "code",
   "execution_count": 60,
   "metadata": {},
   "outputs": [],
   "source": [
    "data_test_lvl_2 = trans.fit_transform(result_lvl_2, data_val_lvl_2, item_features, user_features, with_targets=True)"
   ]
  },
  {
   "cell_type": "code",
   "execution_count": 61,
   "metadata": {},
   "outputs": [],
   "source": [
    "y_test = data_test_lvl_2['target']\n",
    "X_test = data_test_lvl_2.drop('target', axis=1)"
   ]
  },
  {
   "cell_type": "code",
   "execution_count": 62,
   "metadata": {},
   "outputs": [],
   "source": [
    "preds = estimator.predict_proba(X_test)"
   ]
  },
  {
   "cell_type": "code",
   "execution_count": 63,
   "metadata": {},
   "outputs": [],
   "source": [
    "from sklearn.metrics import roc_auc_score"
   ]
  },
  {
   "cell_type": "code",
   "execution_count": 64,
   "metadata": {},
   "outputs": [
    {
     "data": {
      "text/plain": [
       "0.9908528479284291"
      ]
     },
     "execution_count": 64,
     "metadata": {},
     "output_type": "execute_result"
    }
   ],
   "source": [
    "roc_auc_score(y_test, preds[:, 1])"
   ]
  },
  {
   "cell_type": "code",
   "execution_count": 65,
   "metadata": {},
   "outputs": [],
   "source": [
    "catboost_recs = get_recs_from_lvl_2_model(X_test, preds[:, 1])"
   ]
  },
  {
   "cell_type": "code",
   "execution_count": 68,
   "metadata": {},
   "outputs": [],
   "source": [
    "result_lvl_2 = result_lvl_2.merge(catboost_recs, on='user_id', how='left')"
   ]
  },
  {
   "cell_type": "code",
   "execution_count": 70,
   "metadata": {},
   "outputs": [],
   "source": [
    "result_lvl_2 = postfilter_items(result_lvl_2, 'catboost_recs', items_sub_comm, prices, N=5)"
   ]
  },
  {
   "cell_type": "code",
   "execution_count": 71,
   "metadata": {},
   "outputs": [
    {
     "data": {
      "text/html": [
       "<div>\n",
       "<style scoped>\n",
       "    .dataframe tbody tr th:only-of-type {\n",
       "        vertical-align: middle;\n",
       "    }\n",
       "\n",
       "    .dataframe tbody tr th {\n",
       "        vertical-align: top;\n",
       "    }\n",
       "\n",
       "    .dataframe thead th {\n",
       "        text-align: right;\n",
       "    }\n",
       "</style>\n",
       "<table border=\"1\" class=\"dataframe\">\n",
       "  <thead>\n",
       "    <tr style=\"text-align: right;\">\n",
       "      <th></th>\n",
       "      <th>user_id</th>\n",
       "      <th>actual</th>\n",
       "      <th>als_recs</th>\n",
       "      <th>recommendations</th>\n",
       "      <th>catboost_recs</th>\n",
       "      <th>postfilter_catboost_recs</th>\n",
       "    </tr>\n",
       "  </thead>\n",
       "  <tbody>\n",
       "    <tr>\n",
       "      <th>0</th>\n",
       "      <td>1</td>\n",
       "      <td>[821867, 834484, 856942, 865456, 889248, 90795...</td>\n",
       "      <td>[5569374, 885290, 1100972, 965766, 1082212, 94...</td>\n",
       "      <td>[5569374, 885290, 1100972, 965766, 940947, 100...</td>\n",
       "      <td>[979707, 979707, 1005186, 1005186, 856942, 856...</td>\n",
       "      <td>[979707, 1058997, 1100972, 1002787, 9524291]</td>\n",
       "    </tr>\n",
       "    <tr>\n",
       "      <th>1</th>\n",
       "      <td>3</td>\n",
       "      <td>[835476, 851057, 872021, 878302, 879948, 90963...</td>\n",
       "      <td>[940947, 951590, 910032, 12810393, 1133018, 11...</td>\n",
       "      <td>[940947, 951590, 910032, 12810393, 1133018, 55...</td>\n",
       "      <td>[1053690, 13842214, 841220, 8276172, 1092937, ...</td>\n",
       "      <td>[1053690, 841220, 8276172, 1042544, 874972]</td>\n",
       "    </tr>\n",
       "    <tr>\n",
       "      <th>2</th>\n",
       "      <td>6</td>\n",
       "      <td>[920308, 926804, 946489, 1006718, 1017061, 107...</td>\n",
       "      <td>[834826, 1000753, 831628, 5585510, 1051516, 85...</td>\n",
       "      <td>[834826, 1000753, 831628, 5585510, 1051516, 85...</td>\n",
       "      <td>[1024306, 1037863, 845208, 5580166, 1119051, 9...</td>\n",
       "      <td>[1024306, 960613, 871611, 834826, 1094781]</td>\n",
       "    </tr>\n",
       "    <tr>\n",
       "      <th>3</th>\n",
       "      <td>7</td>\n",
       "      <td>[840386, 889774, 898068, 909714, 929067, 95347...</td>\n",
       "      <td>[985999, 1126899, 1122358, 916122, 12810393, 5...</td>\n",
       "      <td>[985999, 1126899, 1122358, 916122, 12810393, 5...</td>\n",
       "      <td>[866211, 1003188, 1003188, 1122358, 1122358, 1...</td>\n",
       "      <td>[866211, 839346, 886703, 974156, 9245512]</td>\n",
       "    </tr>\n",
       "    <tr>\n",
       "      <th>4</th>\n",
       "      <td>8</td>\n",
       "      <td>[835098, 872137, 910439, 924610, 992977, 10412...</td>\n",
       "      <td>[823704, 933067, 965766, 1005186, 999270, 8441...</td>\n",
       "      <td>[823704, 933067, 965766, 1005186, 999270, 8441...</td>\n",
       "      <td>[1005186, 901062, 901062, 901062, 845208, 8721...</td>\n",
       "      <td>[1005186, 1101010, 869728, 871061, 9859217]</td>\n",
       "    </tr>\n",
       "  </tbody>\n",
       "</table>\n",
       "</div>"
      ],
      "text/plain": [
       "   user_id                                             actual  \\\n",
       "0        1  [821867, 834484, 856942, 865456, 889248, 90795...   \n",
       "1        3  [835476, 851057, 872021, 878302, 879948, 90963...   \n",
       "2        6  [920308, 926804, 946489, 1006718, 1017061, 107...   \n",
       "3        7  [840386, 889774, 898068, 909714, 929067, 95347...   \n",
       "4        8  [835098, 872137, 910439, 924610, 992977, 10412...   \n",
       "\n",
       "                                            als_recs  \\\n",
       "0  [5569374, 885290, 1100972, 965766, 1082212, 94...   \n",
       "1  [940947, 951590, 910032, 12810393, 1133018, 11...   \n",
       "2  [834826, 1000753, 831628, 5585510, 1051516, 85...   \n",
       "3  [985999, 1126899, 1122358, 916122, 12810393, 5...   \n",
       "4  [823704, 933067, 965766, 1005186, 999270, 8441...   \n",
       "\n",
       "                                     recommendations  \\\n",
       "0  [5569374, 885290, 1100972, 965766, 940947, 100...   \n",
       "1  [940947, 951590, 910032, 12810393, 1133018, 55...   \n",
       "2  [834826, 1000753, 831628, 5585510, 1051516, 85...   \n",
       "3  [985999, 1126899, 1122358, 916122, 12810393, 5...   \n",
       "4  [823704, 933067, 965766, 1005186, 999270, 8441...   \n",
       "\n",
       "                                       catboost_recs  \\\n",
       "0  [979707, 979707, 1005186, 1005186, 856942, 856...   \n",
       "1  [1053690, 13842214, 841220, 8276172, 1092937, ...   \n",
       "2  [1024306, 1037863, 845208, 5580166, 1119051, 9...   \n",
       "3  [866211, 1003188, 1003188, 1122358, 1122358, 1...   \n",
       "4  [1005186, 901062, 901062, 901062, 845208, 8721...   \n",
       "\n",
       "                       postfilter_catboost_recs  \n",
       "0  [979707, 1058997, 1100972, 1002787, 9524291]  \n",
       "1   [1053690, 841220, 8276172, 1042544, 874972]  \n",
       "2    [1024306, 960613, 871611, 834826, 1094781]  \n",
       "3     [866211, 839346, 886703, 974156, 9245512]  \n",
       "4   [1005186, 1101010, 869728, 871061, 9859217]  "
      ]
     },
     "execution_count": 71,
     "metadata": {},
     "output_type": "execute_result"
    }
   ],
   "source": [
    "result_lvl_2.head()"
   ]
  },
  {
   "cell_type": "code",
   "execution_count": 72,
   "metadata": {},
   "outputs": [],
   "source": [
    "result_lvl_2['recommend_prices'] = result_lvl_2['postfilter_catboost_recs'].apply(lambda x: [prices[item] for item in x])"
   ]
  },
  {
   "cell_type": "code",
   "execution_count": 74,
   "metadata": {},
   "outputs": [
    {
     "data": {
      "text/html": [
       "<div>\n",
       "<style scoped>\n",
       "    .dataframe tbody tr th:only-of-type {\n",
       "        vertical-align: middle;\n",
       "    }\n",
       "\n",
       "    .dataframe tbody tr th {\n",
       "        vertical-align: top;\n",
       "    }\n",
       "\n",
       "    .dataframe thead th {\n",
       "        text-align: right;\n",
       "    }\n",
       "</style>\n",
       "<table border=\"1\" class=\"dataframe\">\n",
       "  <thead>\n",
       "    <tr style=\"text-align: right;\">\n",
       "      <th></th>\n",
       "      <th>user_id</th>\n",
       "      <th>actual</th>\n",
       "      <th>als_recs</th>\n",
       "      <th>recommendations</th>\n",
       "      <th>catboost_recs</th>\n",
       "      <th>postfilter_catboost_recs</th>\n",
       "      <th>recommend_prices</th>\n",
       "    </tr>\n",
       "  </thead>\n",
       "  <tbody>\n",
       "    <tr>\n",
       "      <th>0</th>\n",
       "      <td>1</td>\n",
       "      <td>[821867, 834484, 856942, 865456, 889248, 90795...</td>\n",
       "      <td>[5569374, 885290, 1100972, 965766, 1082212, 94...</td>\n",
       "      <td>[5569374, 885290, 1100972, 965766, 940947, 100...</td>\n",
       "      <td>[979707, 979707, 1005186, 1005186, 856942, 856...</td>\n",
       "      <td>[979707, 1058997, 1100972, 1002787, 9524291]</td>\n",
       "      <td>[1.3072035323801539, 1.243247116392868, 2.4205...</td>\n",
       "    </tr>\n",
       "    <tr>\n",
       "      <th>1</th>\n",
       "      <td>3</td>\n",
       "      <td>[835476, 851057, 872021, 878302, 879948, 90963...</td>\n",
       "      <td>[940947, 951590, 910032, 12810393, 1133018, 11...</td>\n",
       "      <td>[940947, 951590, 910032, 12810393, 1133018, 55...</td>\n",
       "      <td>[1053690, 13842214, 841220, 8276172, 1092937, ...</td>\n",
       "      <td>[1053690, 841220, 8276172, 1042544, 874972]</td>\n",
       "      <td>[1.1769917012448297, 2.8747356828193804, 2.732...</td>\n",
       "    </tr>\n",
       "    <tr>\n",
       "      <th>2</th>\n",
       "      <td>6</td>\n",
       "      <td>[920308, 926804, 946489, 1006718, 1017061, 107...</td>\n",
       "      <td>[834826, 1000753, 831628, 5585510, 1051516, 85...</td>\n",
       "      <td>[834826, 1000753, 831628, 5585510, 1051516, 85...</td>\n",
       "      <td>[1024306, 1037863, 845208, 5580166, 1119051, 9...</td>\n",
       "      <td>[1024306, 960613, 871611, 834826, 1094781]</td>\n",
       "      <td>[1.92120746073298, 2.90814569536424, 3.5676767...</td>\n",
       "    </tr>\n",
       "    <tr>\n",
       "      <th>3</th>\n",
       "      <td>7</td>\n",
       "      <td>[840386, 889774, 898068, 909714, 929067, 95347...</td>\n",
       "      <td>[985999, 1126899, 1122358, 916122, 12810393, 5...</td>\n",
       "      <td>[985999, 1126899, 1122358, 916122, 12810393, 5...</td>\n",
       "      <td>[866211, 1003188, 1003188, 1122358, 1122358, 1...</td>\n",
       "      <td>[866211, 839346, 886703, 974156, 9245512]</td>\n",
       "      <td>[3.3717496229260933, 1.7782242990654193, 1.123...</td>\n",
       "    </tr>\n",
       "    <tr>\n",
       "      <th>4</th>\n",
       "      <td>8</td>\n",
       "      <td>[835098, 872137, 910439, 924610, 992977, 10412...</td>\n",
       "      <td>[823704, 933067, 965766, 1005186, 999270, 8441...</td>\n",
       "      <td>[823704, 933067, 965766, 1005186, 999270, 8441...</td>\n",
       "      <td>[1005186, 901062, 901062, 901062, 845208, 8721...</td>\n",
       "      <td>[1005186, 1101010, 869728, 871061, 9859217]</td>\n",
       "      <td>[2.4483079769736764, 2.7163636363636345, 1.796...</td>\n",
       "    </tr>\n",
       "  </tbody>\n",
       "</table>\n",
       "</div>"
      ],
      "text/plain": [
       "   user_id                                             actual  \\\n",
       "0        1  [821867, 834484, 856942, 865456, 889248, 90795...   \n",
       "1        3  [835476, 851057, 872021, 878302, 879948, 90963...   \n",
       "2        6  [920308, 926804, 946489, 1006718, 1017061, 107...   \n",
       "3        7  [840386, 889774, 898068, 909714, 929067, 95347...   \n",
       "4        8  [835098, 872137, 910439, 924610, 992977, 10412...   \n",
       "\n",
       "                                            als_recs  \\\n",
       "0  [5569374, 885290, 1100972, 965766, 1082212, 94...   \n",
       "1  [940947, 951590, 910032, 12810393, 1133018, 11...   \n",
       "2  [834826, 1000753, 831628, 5585510, 1051516, 85...   \n",
       "3  [985999, 1126899, 1122358, 916122, 12810393, 5...   \n",
       "4  [823704, 933067, 965766, 1005186, 999270, 8441...   \n",
       "\n",
       "                                     recommendations  \\\n",
       "0  [5569374, 885290, 1100972, 965766, 940947, 100...   \n",
       "1  [940947, 951590, 910032, 12810393, 1133018, 55...   \n",
       "2  [834826, 1000753, 831628, 5585510, 1051516, 85...   \n",
       "3  [985999, 1126899, 1122358, 916122, 12810393, 5...   \n",
       "4  [823704, 933067, 965766, 1005186, 999270, 8441...   \n",
       "\n",
       "                                       catboost_recs  \\\n",
       "0  [979707, 979707, 1005186, 1005186, 856942, 856...   \n",
       "1  [1053690, 13842214, 841220, 8276172, 1092937, ...   \n",
       "2  [1024306, 1037863, 845208, 5580166, 1119051, 9...   \n",
       "3  [866211, 1003188, 1003188, 1122358, 1122358, 1...   \n",
       "4  [1005186, 901062, 901062, 901062, 845208, 8721...   \n",
       "\n",
       "                       postfilter_catboost_recs  \\\n",
       "0  [979707, 1058997, 1100972, 1002787, 9524291]   \n",
       "1   [1053690, 841220, 8276172, 1042544, 874972]   \n",
       "2    [1024306, 960613, 871611, 834826, 1094781]   \n",
       "3     [866211, 839346, 886703, 974156, 9245512]   \n",
       "4   [1005186, 1101010, 869728, 871061, 9859217]   \n",
       "\n",
       "                                    recommend_prices  \n",
       "0  [1.3072035323801539, 1.243247116392868, 2.4205...  \n",
       "1  [1.1769917012448297, 2.8747356828193804, 2.732...  \n",
       "2  [1.92120746073298, 2.90814569536424, 3.5676767...  \n",
       "3  [3.3717496229260933, 1.7782242990654193, 1.123...  \n",
       "4  [2.4483079769736764, 2.7163636363636345, 1.796...  "
      ]
     },
     "execution_count": 74,
     "metadata": {},
     "output_type": "execute_result"
    }
   ],
   "source": [
    "result_lvl_2.head()"
   ]
  },
  {
   "cell_type": "code",
   "execution_count": 75,
   "metadata": {},
   "outputs": [],
   "source": [
    "money_precision_5 = result_lvl_2.apply(lambda row: money_precision_at_k(row['postfilter_catboost_recs'], \n",
    "                                                                        row['actual'], row['recommend_prices']), axis=1).mean()"
   ]
  },
  {
   "cell_type": "code",
   "execution_count": 76,
   "metadata": {},
   "outputs": [
    {
     "data": {
      "text/plain": [
       "0.22067770995198296"
      ]
     },
     "execution_count": 76,
     "metadata": {},
     "output_type": "execute_result"
    }
   ],
   "source": [
    "money_precision_5"
   ]
  },
  {
   "cell_type": "code",
   "execution_count": 78,
   "metadata": {},
   "outputs": [],
   "source": [
    "import pickle"
   ]
  },
  {
   "cell_type": "code",
   "execution_count": 79,
   "metadata": {},
   "outputs": [],
   "source": [
    "with open('Saved_Models/model_lvl_1.pickle', 'wb') as f:\n",
    "    pickle.dump(als_rec, f)"
   ]
  },
  {
   "cell_type": "code",
   "execution_count": 80,
   "metadata": {},
   "outputs": [],
   "source": [
    "with open('Saved_Models/model_lvl_2.pickle', 'wb') as f:\n",
    "    pickle.dump(estimator, f)"
   ]
  },
  {
   "cell_type": "code",
   "execution_count": null,
   "metadata": {},
   "outputs": [],
   "source": []
  }
 ],
 "metadata": {
  "kernelspec": {
   "display_name": "Python 3",
   "language": "python",
   "name": "python3"
  },
  "language_info": {
   "codemirror_mode": {
    "name": "ipython",
    "version": 3
   },
   "file_extension": ".py",
   "mimetype": "text/x-python",
   "name": "python",
   "nbconvert_exporter": "python",
   "pygments_lexer": "ipython3",
   "version": "3.8.3"
  }
 },
 "nbformat": 4,
 "nbformat_minor": 4
}
