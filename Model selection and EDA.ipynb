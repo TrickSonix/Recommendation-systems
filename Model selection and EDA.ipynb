{
 "cells": [
  {
   "cell_type": "code",
   "execution_count": 1,
   "metadata": {},
   "outputs": [],
   "source": [
    "import pandas as pd\n",
    "import numpy as np\n",
    "\n",
    "from scipy.sparse import csr_matrix\n",
    "\n",
    "from implicit.als import AlternatingLeastSquares\n",
    "from implicit.nearest_neighbours import bm25_weight, tfidf_weight\n",
    "\n",
    "from src.metrics import recall_at_k, money_precision_at_k"
   ]
  },
  {
   "cell_type": "code",
   "execution_count": 2,
   "metadata": {},
   "outputs": [],
   "source": [
    "data = pd.read_csv('data/retail_train.csv')\n",
    "item_features = pd.read_csv('data/product.csv')\n",
    "user_features = pd.read_csv('data/hh_demographic.csv')\n",
    "\n",
    "item_features.columns = [col.lower() for col in item_features.columns]\n",
    "user_features.columns = [col.lower() for col in user_features.columns]\n",
    "\n",
    "item_features.rename(columns={'product_id': 'item_id'}, inplace=True)\n",
    "user_features.rename(columns={'household_key': 'user_id'}, inplace=True)\n",
    "\n",
    "val_lvl_1_size_weeks = 6\n",
    "val_lvl_2_size_weeks = 3\n",
    "\n",
    "data_train_lvl_1 = data[data['week_no'] < data['week_no'].max() - (val_lvl_1_size_weeks + val_lvl_2_size_weeks)]\n",
    "data_val_lvl_1 = data[(data['week_no'] >= data['week_no'].max() - (val_lvl_1_size_weeks + val_lvl_2_size_weeks)) &\n",
    "                      (data['week_no'] < data['week_no'].max() - (val_lvl_2_size_weeks))]\n",
    "\n",
    "data_train_lvl_2 = data_val_lvl_1.copy()  # Для наглядности. Далее мы добавим изменения, и они будут отличаться\n",
    "data_val_lvl_2 = data[data['week_no'] >= data['week_no'].max() - val_lvl_2_size_weeks]"
   ]
  },
  {
   "cell_type": "code",
   "execution_count": 3,
   "metadata": {},
   "outputs": [],
   "source": [
    "from src.recommenders import MainRecommender\n",
    "from src.utils import prefilter_items, postfilter_items"
   ]
  },
  {
   "cell_type": "code",
   "execution_count": 4,
   "metadata": {},
   "outputs": [],
   "source": [
    "data_train_lvl_1 = prefilter_items(data_train_lvl_1)"
   ]
  },
  {
   "cell_type": "code",
   "execution_count": 5,
   "metadata": {},
   "outputs": [
    {
     "name": "stderr",
     "output_type": "stream",
     "text": [
      "WARNING:root:Intel MKL BLAS detected. Its highly recommend to set the environment variable 'export MKL_NUM_THREADS=1' to disable its internal multithreading\n"
     ]
    },
    {
     "data": {
      "application/vnd.jupyter.widget-view+json": {
       "model_id": "93079e7c77cc4c62b186ffdff694d47e",
       "version_major": 2,
       "version_minor": 0
      },
      "text/plain": [
       "HBox(children=(FloatProgress(value=0.0, max=30.0), HTML(value='')))"
      ]
     },
     "metadata": {},
     "output_type": "display_data"
    },
    {
     "name": "stdout",
     "output_type": "stream",
     "text": [
      "\n"
     ]
    },
    {
     "data": {
      "application/vnd.jupyter.widget-view+json": {
       "model_id": "f9655905fe1f47608d336b58bfb0c1f0",
       "version_major": 2,
       "version_minor": 0
      },
      "text/plain": [
       "HBox(children=(FloatProgress(value=0.0, max=5001.0), HTML(value='')))"
      ]
     },
     "metadata": {},
     "output_type": "display_data"
    },
    {
     "name": "stdout",
     "output_type": "stream",
     "text": [
      "\n"
     ]
    }
   ],
   "source": [
    "recommender = MainRecommender(data_train_lvl_1, n_factors=30, iterations=30, num_threads=8)"
   ]
  },
  {
   "cell_type": "code",
   "execution_count": 6,
   "metadata": {},
   "outputs": [],
   "source": [
    "result_lvl_1 = data_val_lvl_1.groupby('user_id')['item_id'].unique().reset_index()\n",
    "result_lvl_1.columns=['user_id', 'actual']"
   ]
  },
  {
   "cell_type": "code",
   "execution_count": 7,
   "metadata": {},
   "outputs": [],
   "source": [
    "result_lvl_1['als_recs'] = result_lvl_1['user_id'].apply(lambda x: recommender.get_main_model_recommendations(x, N=200))"
   ]
  },
  {
   "cell_type": "code",
   "execution_count": 8,
   "metadata": {},
   "outputs": [],
   "source": [
    "prices = data_train_lvl_1.groupby('item_id')[['sales_value', 'quantity']].sum().reset_index()\n",
    "prices['price'] = prices['sales_value']/prices['quantity']"
   ]
  },
  {
   "cell_type": "code",
   "execution_count": 9,
   "metadata": {},
   "outputs": [
    {
     "data": {
      "text/html": [
       "<div>\n",
       "<style scoped>\n",
       "    .dataframe tbody tr th:only-of-type {\n",
       "        vertical-align: middle;\n",
       "    }\n",
       "\n",
       "    .dataframe tbody tr th {\n",
       "        vertical-align: top;\n",
       "    }\n",
       "\n",
       "    .dataframe thead th {\n",
       "        text-align: right;\n",
       "    }\n",
       "</style>\n",
       "<table border=\"1\" class=\"dataframe\">\n",
       "  <thead>\n",
       "    <tr style=\"text-align: right;\">\n",
       "      <th></th>\n",
       "      <th>item_id</th>\n",
       "      <th>sales_value</th>\n",
       "      <th>quantity</th>\n",
       "      <th>price</th>\n",
       "    </tr>\n",
       "  </thead>\n",
       "  <tbody>\n",
       "    <tr>\n",
       "      <th>0</th>\n",
       "      <td>818981</td>\n",
       "      <td>298.86</td>\n",
       "      <td>104</td>\n",
       "      <td>2.873654</td>\n",
       "    </tr>\n",
       "    <tr>\n",
       "      <th>1</th>\n",
       "      <td>819063</td>\n",
       "      <td>517.49</td>\n",
       "      <td>320</td>\n",
       "      <td>1.617156</td>\n",
       "    </tr>\n",
       "    <tr>\n",
       "      <th>2</th>\n",
       "      <td>819112</td>\n",
       "      <td>148.30</td>\n",
       "      <td>90</td>\n",
       "      <td>1.647778</td>\n",
       "    </tr>\n",
       "    <tr>\n",
       "      <th>3</th>\n",
       "      <td>819255</td>\n",
       "      <td>1143.93</td>\n",
       "      <td>504</td>\n",
       "      <td>2.269702</td>\n",
       "    </tr>\n",
       "    <tr>\n",
       "      <th>4</th>\n",
       "      <td>819304</td>\n",
       "      <td>507.14</td>\n",
       "      <td>312</td>\n",
       "      <td>1.625449</td>\n",
       "    </tr>\n",
       "  </tbody>\n",
       "</table>\n",
       "</div>"
      ],
      "text/plain": [
       "   item_id  sales_value  quantity     price\n",
       "0   818981       298.86       104  2.873654\n",
       "1   819063       517.49       320  1.617156\n",
       "2   819112       148.30        90  1.647778\n",
       "3   819255      1143.93       504  2.269702\n",
       "4   819304       507.14       312  1.625449"
      ]
     },
     "execution_count": 9,
     "metadata": {},
     "output_type": "execute_result"
    }
   ],
   "source": [
    "prices.head()"
   ]
  },
  {
   "cell_type": "code",
   "execution_count": 10,
   "metadata": {},
   "outputs": [],
   "source": [
    "prices.drop(['sales_value', 'quantity'], axis=1, inplace=True)"
   ]
  },
  {
   "cell_type": "code",
   "execution_count": 11,
   "metadata": {},
   "outputs": [],
   "source": [
    "prices = dict(zip(prices['item_id'], prices['price']))"
   ]
  },
  {
   "cell_type": "code",
   "execution_count": 12,
   "metadata": {},
   "outputs": [
    {
     "data": {
      "text/html": [
       "<div>\n",
       "<style scoped>\n",
       "    .dataframe tbody tr th:only-of-type {\n",
       "        vertical-align: middle;\n",
       "    }\n",
       "\n",
       "    .dataframe tbody tr th {\n",
       "        vertical-align: top;\n",
       "    }\n",
       "\n",
       "    .dataframe thead th {\n",
       "        text-align: right;\n",
       "    }\n",
       "</style>\n",
       "<table border=\"1\" class=\"dataframe\">\n",
       "  <thead>\n",
       "    <tr style=\"text-align: right;\">\n",
       "      <th></th>\n",
       "      <th>user_id</th>\n",
       "      <th>actual</th>\n",
       "      <th>als_recs</th>\n",
       "    </tr>\n",
       "  </thead>\n",
       "  <tbody>\n",
       "    <tr>\n",
       "      <th>0</th>\n",
       "      <td>1</td>\n",
       "      <td>[853529, 865456, 867607, 872137, 874905, 87524...</td>\n",
       "      <td>[13007846, 12949855, 1082212, 1015386, 834382,...</td>\n",
       "    </tr>\n",
       "    <tr>\n",
       "      <th>1</th>\n",
       "      <td>2</td>\n",
       "      <td>[15830248, 838136, 839656, 861272, 866211, 870...</td>\n",
       "      <td>[1021324, 9419422, 909338, 9419961, 945998, 90...</td>\n",
       "    </tr>\n",
       "    <tr>\n",
       "      <th>2</th>\n",
       "      <td>4</td>\n",
       "      <td>[883932, 970760, 1035676, 1055863, 1097610, 67...</td>\n",
       "      <td>[997796, 1037417, 1077745, 1115098, 6514160, 8...</td>\n",
       "    </tr>\n",
       "    <tr>\n",
       "      <th>3</th>\n",
       "      <td>6</td>\n",
       "      <td>[1024306, 1102949, 6548453, 835394, 940804, 96...</td>\n",
       "      <td>[823862, 1042616, 950935, 969941, 9553397, 105...</td>\n",
       "    </tr>\n",
       "    <tr>\n",
       "      <th>4</th>\n",
       "      <td>7</td>\n",
       "      <td>[836281, 843306, 845294, 914190, 920456, 93886...</td>\n",
       "      <td>[1020404, 835285, 913144, 5981267, 879280, 938...</td>\n",
       "    </tr>\n",
       "  </tbody>\n",
       "</table>\n",
       "</div>"
      ],
      "text/plain": [
       "   user_id                                             actual  \\\n",
       "0        1  [853529, 865456, 867607, 872137, 874905, 87524...   \n",
       "1        2  [15830248, 838136, 839656, 861272, 866211, 870...   \n",
       "2        4  [883932, 970760, 1035676, 1055863, 1097610, 67...   \n",
       "3        6  [1024306, 1102949, 6548453, 835394, 940804, 96...   \n",
       "4        7  [836281, 843306, 845294, 914190, 920456, 93886...   \n",
       "\n",
       "                                            als_recs  \n",
       "0  [13007846, 12949855, 1082212, 1015386, 834382,...  \n",
       "1  [1021324, 9419422, 909338, 9419961, 945998, 90...  \n",
       "2  [997796, 1037417, 1077745, 1115098, 6514160, 8...  \n",
       "3  [823862, 1042616, 950935, 969941, 9553397, 105...  \n",
       "4  [1020404, 835285, 913144, 5981267, 879280, 938...  "
      ]
     },
     "execution_count": 12,
     "metadata": {},
     "output_type": "execute_result"
    }
   ],
   "source": [
    "result_lvl_1.head()"
   ]
  },
  {
   "cell_type": "code",
   "execution_count": 13,
   "metadata": {},
   "outputs": [],
   "source": [
    "def get_prices(items):\n",
    "    return [prices[k] for k in items]"
   ]
  },
  {
   "cell_type": "code",
   "execution_count": 14,
   "metadata": {},
   "outputs": [],
   "source": [
    "result_lvl_1['prices_recommend'] = result_lvl_1.apply(lambda row: get_prices(row['als_recs']), axis=1)"
   ]
  },
  {
   "cell_type": "code",
   "execution_count": 15,
   "metadata": {},
   "outputs": [
    {
     "data": {
      "text/plain": [
       "0.03683910319457695"
      ]
     },
     "execution_count": 15,
     "metadata": {},
     "output_type": "execute_result"
    }
   ],
   "source": [
    "money_precision_5_als = result_lvl_1.apply(lambda row: money_precision_at_k(row['als_recs'], row['actual'], row['prices_recommend']), axis=1).mean()\n",
    "money_precision_5_als"
   ]
  },
  {
   "cell_type": "code",
   "execution_count": 16,
   "metadata": {},
   "outputs": [],
   "source": [
    "item_features_with_prices = data_train_lvl_1.groupby('item_id')[['sales_value', 'quantity']].sum().reset_index()\n",
    "item_features_with_prices['price'] = item_features_with_prices['sales_value']/item_features_with_prices['quantity']\n",
    "item_features_with_prices.drop(['sales_value', 'quantity'], axis=1, inplace=True)\n",
    "item_features_with_prices = item_features_with_prices.merge(item_features, on='item_id', how='left')\n",
    "item_features_with_prices = item_features_with_prices.loc[item_features_with_prices['item_id'] != 999999]"
   ]
  },
  {
   "cell_type": "code",
   "execution_count": 17,
   "metadata": {},
   "outputs": [
    {
     "data": {
      "text/plain": [
       "125"
      ]
     },
     "execution_count": 17,
     "metadata": {},
     "output_type": "execute_result"
    }
   ],
   "source": [
    "item_features_with_prices.loc[item_features_with_prices['price']>7]['item_id'].nunique()"
   ]
  },
  {
   "cell_type": "code",
   "execution_count": 18,
   "metadata": {},
   "outputs": [],
   "source": [
    "result_lvl_1['als_recs'] = result_lvl_1['user_id'].apply(lambda x: recommender.get_main_model_recommendations(x, N=4876))"
   ]
  },
  {
   "cell_type": "code",
   "execution_count": 19,
   "metadata": {},
   "outputs": [],
   "source": [
    "result_lvl_1 = postfilter_items(result_lvl_1, 'als_recs', item_features_with_prices)"
   ]
  },
  {
   "cell_type": "code",
   "execution_count": 20,
   "metadata": {},
   "outputs": [
    {
     "data": {
      "text/html": [
       "<div>\n",
       "<style scoped>\n",
       "    .dataframe tbody tr th:only-of-type {\n",
       "        vertical-align: middle;\n",
       "    }\n",
       "\n",
       "    .dataframe tbody tr th {\n",
       "        vertical-align: top;\n",
       "    }\n",
       "\n",
       "    .dataframe thead th {\n",
       "        text-align: right;\n",
       "    }\n",
       "</style>\n",
       "<table border=\"1\" class=\"dataframe\">\n",
       "  <thead>\n",
       "    <tr style=\"text-align: right;\">\n",
       "      <th></th>\n",
       "      <th>user_id</th>\n",
       "      <th>actual</th>\n",
       "      <th>als_recs</th>\n",
       "      <th>prices_recommend</th>\n",
       "      <th>postfilter_als_recs</th>\n",
       "    </tr>\n",
       "  </thead>\n",
       "  <tbody>\n",
       "    <tr>\n",
       "      <th>0</th>\n",
       "      <td>1</td>\n",
       "      <td>[853529, 865456, 867607, 872137, 874905, 87524...</td>\n",
       "      <td>[13007846, 12949855, 1082212, 1015386, 834382,...</td>\n",
       "      <td>[2.1810317460317448, 3.0885897435897456, 2.017...</td>\n",
       "      <td>[13007846, 12949855, 1066095, 1100972, 1036249]</td>\n",
       "    </tr>\n",
       "    <tr>\n",
       "      <th>1</th>\n",
       "      <td>2</td>\n",
       "      <td>[15830248, 838136, 839656, 861272, 866211, 870...</td>\n",
       "      <td>[1021324, 9419422, 909338, 9419961, 945998, 90...</td>\n",
       "      <td>[7.5499999999999705, 5.4060000000000015, 1.214...</td>\n",
       "      <td>[1021324, 9419422, 909338, 9419961, 945998]</td>\n",
       "    </tr>\n",
       "    <tr>\n",
       "      <th>2</th>\n",
       "      <td>4</td>\n",
       "      <td>[883932, 970760, 1035676, 1055863, 1097610, 67...</td>\n",
       "      <td>[997796, 1037417, 1077745, 1115098, 6514160, 8...</td>\n",
       "      <td>[3.641684587813626, 2.895266666666666, 3.23040...</td>\n",
       "      <td>[997796, 1037417, 1082627, 925178, 988736]</td>\n",
       "    </tr>\n",
       "    <tr>\n",
       "      <th>3</th>\n",
       "      <td>6</td>\n",
       "      <td>[1024306, 1102949, 6548453, 835394, 940804, 96...</td>\n",
       "      <td>[823862, 1042616, 950935, 969941, 9553397, 105...</td>\n",
       "      <td>[4.359743589743593, 2.945144230769237, 2.98254...</td>\n",
       "      <td>[823862, 1042616, 9655679, 898958, 919766]</td>\n",
       "    </tr>\n",
       "    <tr>\n",
       "      <th>4</th>\n",
       "      <td>7</td>\n",
       "      <td>[836281, 843306, 845294, 914190, 920456, 93886...</td>\n",
       "      <td>[1020404, 835285, 913144, 5981267, 879280, 938...</td>\n",
       "      <td>[4.0226086956521785, 1.8193023255813947, 4.230...</td>\n",
       "      <td>[1020404, 835285, 995151, 853643, 1085846]</td>\n",
       "    </tr>\n",
       "  </tbody>\n",
       "</table>\n",
       "</div>"
      ],
      "text/plain": [
       "   user_id                                             actual  \\\n",
       "0        1  [853529, 865456, 867607, 872137, 874905, 87524...   \n",
       "1        2  [15830248, 838136, 839656, 861272, 866211, 870...   \n",
       "2        4  [883932, 970760, 1035676, 1055863, 1097610, 67...   \n",
       "3        6  [1024306, 1102949, 6548453, 835394, 940804, 96...   \n",
       "4        7  [836281, 843306, 845294, 914190, 920456, 93886...   \n",
       "\n",
       "                                            als_recs  \\\n",
       "0  [13007846, 12949855, 1082212, 1015386, 834382,...   \n",
       "1  [1021324, 9419422, 909338, 9419961, 945998, 90...   \n",
       "2  [997796, 1037417, 1077745, 1115098, 6514160, 8...   \n",
       "3  [823862, 1042616, 950935, 969941, 9553397, 105...   \n",
       "4  [1020404, 835285, 913144, 5981267, 879280, 938...   \n",
       "\n",
       "                                    prices_recommend  \\\n",
       "0  [2.1810317460317448, 3.0885897435897456, 2.017...   \n",
       "1  [7.5499999999999705, 5.4060000000000015, 1.214...   \n",
       "2  [3.641684587813626, 2.895266666666666, 3.23040...   \n",
       "3  [4.359743589743593, 2.945144230769237, 2.98254...   \n",
       "4  [4.0226086956521785, 1.8193023255813947, 4.230...   \n",
       "\n",
       "                               postfilter_als_recs  \n",
       "0  [13007846, 12949855, 1066095, 1100972, 1036249]  \n",
       "1      [1021324, 9419422, 909338, 9419961, 945998]  \n",
       "2       [997796, 1037417, 1082627, 925178, 988736]  \n",
       "3       [823862, 1042616, 9655679, 898958, 919766]  \n",
       "4       [1020404, 835285, 995151, 853643, 1085846]  "
      ]
     },
     "execution_count": 20,
     "metadata": {},
     "output_type": "execute_result"
    }
   ],
   "source": [
    "result_lvl_1.head()"
   ]
  },
  {
   "cell_type": "code",
   "execution_count": 21,
   "metadata": {},
   "outputs": [],
   "source": [
    "result_lvl_1['prices_recommend_postfilter'] = result_lvl_1.apply(lambda row: get_prices(row['postfilter_als_recs']), axis=1)"
   ]
  },
  {
   "cell_type": "code",
   "execution_count": 22,
   "metadata": {},
   "outputs": [
    {
     "data": {
      "text/plain": [
       "0.02814370436069936"
      ]
     },
     "execution_count": 22,
     "metadata": {},
     "output_type": "execute_result"
    }
   ],
   "source": [
    "money_precision_5_als_postfilter = result_lvl_1.apply(lambda row: money_precision_at_k(row['postfilter_als_recs'], row['actual'],\n",
    "                                                                                       row['prices_recommend_postfilter']), \n",
    "                                                                                       axis=1).mean()\n",
    "money_precision_5_als_postfilter"
   ]
  },
  {
   "cell_type": "code",
   "execution_count": 23,
   "metadata": {},
   "outputs": [
    {
     "data": {
      "text/plain": [
       "0.12364460849093736"
      ]
     },
     "execution_count": 23,
     "metadata": {},
     "output_type": "execute_result"
    }
   ],
   "source": [
    "recall_at_200_als = result_lvl_1.apply(lambda row: recall_at_k(row['als_recs'], row['actual'], k=200), axis=1).mean()\n",
    "recall_at_200_als"
   ]
  },
  {
   "cell_type": "code",
   "execution_count": 24,
   "metadata": {},
   "outputs": [],
   "source": [
    "from src.searcher import GridSearch"
   ]
  },
  {
   "cell_type": "code",
   "execution_count": 25,
   "metadata": {},
   "outputs": [],
   "source": [
    "data_train_lvl_1 = data[data['week_no'] < data['week_no'].max() - (val_lvl_1_size_weeks + val_lvl_2_size_weeks)]"
   ]
  },
  {
   "cell_type": "code",
   "execution_count": 26,
   "metadata": {},
   "outputs": [],
   "source": [
    "prices = data.groupby('item_id')[['sales_value', 'quantity']].sum().reset_index()\n",
    "prices['price'] = prices['sales_value']/prices['quantity']\n",
    "prices.drop(['sales_value', 'quantity'], axis=1, inplace=True)\n",
    "item_features_with_prices = item_features.merge(prices, on='item_id', how='right')"
   ]
  },
  {
   "cell_type": "code",
   "execution_count": 27,
   "metadata": {},
   "outputs": [],
   "source": [
    "item_features_with_prices.dropna(inplace=True)"
   ]
  },
  {
   "cell_type": "code",
   "execution_count": 28,
   "metadata": {},
   "outputs": [],
   "source": [
    "top_n_list = [6000, 8000, 10000]\n",
    "weighting_list = ['bm25', 'tfidf', None]\n",
    "param_grid = {'n_factors': [25, 50, 75], 'regularization': [0.001, 0.01], 'iterations': [20, 50, 100], 'num_threads': [8]}"
   ]
  },
  {
   "cell_type": "code",
   "execution_count": 29,
   "metadata": {},
   "outputs": [],
   "source": [
    "#search = GridSearch('MainRecommender', top_n_list, weighting_list, param_grid, recall_at_k)"
   ]
  },
  {
   "cell_type": "code",
   "execution_count": 30,
   "metadata": {},
   "outputs": [],
   "source": [
    "#best_score, best_params = search.fit(data_train_lvl_1, data_val_lvl_1, item_features_with_prices)"
   ]
  },
  {
   "cell_type": "code",
   "execution_count": 31,
   "metadata": {},
   "outputs": [],
   "source": [
    "best_score, best_params = (0.015779534928617823,\n",
    " [6000,\n",
    "  None,\n",
    "  {'n_factors': 75,\n",
    "   'regularization': 0.01,\n",
    "   'iterations': 100,\n",
    "   'num_threads': 8}])"
   ]
  },
  {
   "cell_type": "code",
   "execution_count": 32,
   "metadata": {},
   "outputs": [],
   "source": [
    "prefilter_data_train = prefilter_items(data_train_lvl_1, 6000)"
   ]
  },
  {
   "cell_type": "code",
   "execution_count": 33,
   "metadata": {},
   "outputs": [
    {
     "data": {
      "application/vnd.jupyter.widget-view+json": {
       "model_id": "ac989b033c05419ebd473ab5456f634d",
       "version_major": 2,
       "version_minor": 0
      },
      "text/plain": [
       "HBox(children=(FloatProgress(value=0.0), HTML(value='')))"
      ]
     },
     "metadata": {},
     "output_type": "display_data"
    },
    {
     "name": "stdout",
     "output_type": "stream",
     "text": [
      "\n"
     ]
    },
    {
     "data": {
      "application/vnd.jupyter.widget-view+json": {
       "model_id": "1bbea31ea7ad4e26b1f603916e836592",
       "version_major": 2,
       "version_minor": 0
      },
      "text/plain": [
       "HBox(children=(FloatProgress(value=0.0, max=6001.0), HTML(value='')))"
      ]
     },
     "metadata": {},
     "output_type": "display_data"
    },
    {
     "name": "stdout",
     "output_type": "stream",
     "text": [
      "\n"
     ]
    }
   ],
   "source": [
    "als_rec = MainRecommender(prefilter_data_train, weighting=None, n_factors=75, regularization=0.01, iterations=100, num_threads=8)"
   ]
  },
  {
   "cell_type": "code",
   "execution_count": 34,
   "metadata": {},
   "outputs": [
    {
     "data": {
      "text/html": [
       "<div>\n",
       "<style scoped>\n",
       "    .dataframe tbody tr th:only-of-type {\n",
       "        vertical-align: middle;\n",
       "    }\n",
       "\n",
       "    .dataframe tbody tr th {\n",
       "        vertical-align: top;\n",
       "    }\n",
       "\n",
       "    .dataframe thead th {\n",
       "        text-align: right;\n",
       "    }\n",
       "</style>\n",
       "<table border=\"1\" class=\"dataframe\">\n",
       "  <thead>\n",
       "    <tr style=\"text-align: right;\">\n",
       "      <th></th>\n",
       "      <th>user_id</th>\n",
       "      <th>actual</th>\n",
       "      <th>als_recs</th>\n",
       "      <th>prices_recommend</th>\n",
       "      <th>postfilter_als_recs</th>\n",
       "      <th>prices_recommend_postfilter</th>\n",
       "    </tr>\n",
       "  </thead>\n",
       "  <tbody>\n",
       "    <tr>\n",
       "      <th>0</th>\n",
       "      <td>1</td>\n",
       "      <td>[853529, 865456, 867607, 872137, 874905, 87524...</td>\n",
       "      <td>[13007846, 12949855, 1082212, 1015386, 834382,...</td>\n",
       "      <td>[2.1810317460317448, 3.0885897435897456, 2.017...</td>\n",
       "      <td>[13007846, 12949855, 1066095, 1100972, 1036249]</td>\n",
       "      <td>[2.1810317460317448, 3.0885897435897456, 7.667...</td>\n",
       "    </tr>\n",
       "    <tr>\n",
       "      <th>1</th>\n",
       "      <td>2</td>\n",
       "      <td>[15830248, 838136, 839656, 861272, 866211, 870...</td>\n",
       "      <td>[1021324, 9419422, 909338, 9419961, 945998, 90...</td>\n",
       "      <td>[7.5499999999999705, 5.4060000000000015, 1.214...</td>\n",
       "      <td>[1021324, 9419422, 909338, 9419961, 945998]</td>\n",
       "      <td>[7.5499999999999705, 5.4060000000000015, 1.214...</td>\n",
       "    </tr>\n",
       "    <tr>\n",
       "      <th>2</th>\n",
       "      <td>4</td>\n",
       "      <td>[883932, 970760, 1035676, 1055863, 1097610, 67...</td>\n",
       "      <td>[997796, 1037417, 1077745, 1115098, 6514160, 8...</td>\n",
       "      <td>[3.641684587813626, 2.895266666666666, 3.23040...</td>\n",
       "      <td>[997796, 1037417, 1082627, 925178, 988736]</td>\n",
       "      <td>[3.641684587813626, 2.895266666666666, 7.67382...</td>\n",
       "    </tr>\n",
       "    <tr>\n",
       "      <th>3</th>\n",
       "      <td>6</td>\n",
       "      <td>[1024306, 1102949, 6548453, 835394, 940804, 96...</td>\n",
       "      <td>[823862, 1042616, 950935, 969941, 9553397, 105...</td>\n",
       "      <td>[4.359743589743593, 2.945144230769237, 2.98254...</td>\n",
       "      <td>[823862, 1042616, 9655679, 898958, 919766]</td>\n",
       "      <td>[4.359743589743593, 2.945144230769237, 8.33727...</td>\n",
       "    </tr>\n",
       "    <tr>\n",
       "      <th>4</th>\n",
       "      <td>7</td>\n",
       "      <td>[836281, 843306, 845294, 914190, 920456, 93886...</td>\n",
       "      <td>[1020404, 835285, 913144, 5981267, 879280, 938...</td>\n",
       "      <td>[4.0226086956521785, 1.8193023255813947, 4.230...</td>\n",
       "      <td>[1020404, 835285, 995151, 853643, 1085846]</td>\n",
       "      <td>[4.0226086956521785, 1.8193023255813947, 9.980...</td>\n",
       "    </tr>\n",
       "  </tbody>\n",
       "</table>\n",
       "</div>"
      ],
      "text/plain": [
       "   user_id                                             actual  \\\n",
       "0        1  [853529, 865456, 867607, 872137, 874905, 87524...   \n",
       "1        2  [15830248, 838136, 839656, 861272, 866211, 870...   \n",
       "2        4  [883932, 970760, 1035676, 1055863, 1097610, 67...   \n",
       "3        6  [1024306, 1102949, 6548453, 835394, 940804, 96...   \n",
       "4        7  [836281, 843306, 845294, 914190, 920456, 93886...   \n",
       "\n",
       "                                            als_recs  \\\n",
       "0  [13007846, 12949855, 1082212, 1015386, 834382,...   \n",
       "1  [1021324, 9419422, 909338, 9419961, 945998, 90...   \n",
       "2  [997796, 1037417, 1077745, 1115098, 6514160, 8...   \n",
       "3  [823862, 1042616, 950935, 969941, 9553397, 105...   \n",
       "4  [1020404, 835285, 913144, 5981267, 879280, 938...   \n",
       "\n",
       "                                    prices_recommend  \\\n",
       "0  [2.1810317460317448, 3.0885897435897456, 2.017...   \n",
       "1  [7.5499999999999705, 5.4060000000000015, 1.214...   \n",
       "2  [3.641684587813626, 2.895266666666666, 3.23040...   \n",
       "3  [4.359743589743593, 2.945144230769237, 2.98254...   \n",
       "4  [4.0226086956521785, 1.8193023255813947, 4.230...   \n",
       "\n",
       "                               postfilter_als_recs  \\\n",
       "0  [13007846, 12949855, 1066095, 1100972, 1036249]   \n",
       "1      [1021324, 9419422, 909338, 9419961, 945998]   \n",
       "2       [997796, 1037417, 1082627, 925178, 988736]   \n",
       "3       [823862, 1042616, 9655679, 898958, 919766]   \n",
       "4       [1020404, 835285, 995151, 853643, 1085846]   \n",
       "\n",
       "                         prices_recommend_postfilter  \n",
       "0  [2.1810317460317448, 3.0885897435897456, 7.667...  \n",
       "1  [7.5499999999999705, 5.4060000000000015, 1.214...  \n",
       "2  [3.641684587813626, 2.895266666666666, 7.67382...  \n",
       "3  [4.359743589743593, 2.945144230769237, 8.33727...  \n",
       "4  [4.0226086956521785, 1.8193023255813947, 9.980...  "
      ]
     },
     "execution_count": 34,
     "metadata": {},
     "output_type": "execute_result"
    }
   ],
   "source": [
    "result_lvl_1.head()"
   ]
  },
  {
   "cell_type": "code",
   "execution_count": 35,
   "metadata": {},
   "outputs": [],
   "source": [
    "#%%time\n",
    "#result_lvl_1['als_recs'] = result_lvl_1['user_id'].apply(lambda x: als_rec.get_main_model_recommendations(x, N=6000))"
   ]
  },
  {
   "cell_type": "code",
   "execution_count": 36,
   "metadata": {},
   "outputs": [],
   "source": [
    "#result_lvl_1 = postfilter_items(result_lvl_1, 'als_recs', item_features_with_prices, N=200)\n",
    "#recall_at_200_als = result_lvl_1.apply(lambda row: recall_at_k(row['postfilter_als_recs'], row['actual'], k=200), axis=1).mean()\n",
    "#recall_at_200_als  #0.13577141284317992"
   ]
  },
  {
   "cell_type": "code",
   "execution_count": 37,
   "metadata": {},
   "outputs": [],
   "source": [
    "from src.recommenders import BPRRecommender"
   ]
  },
  {
   "cell_type": "code",
   "execution_count": 38,
   "metadata": {},
   "outputs": [
    {
     "data": {
      "application/vnd.jupyter.widget-view+json": {
       "model_id": "40f2f86c45824425b42377886e0cee55",
       "version_major": 2,
       "version_minor": 0
      },
      "text/plain": [
       "HBox(children=(FloatProgress(value=0.0), HTML(value='')))"
      ]
     },
     "metadata": {},
     "output_type": "display_data"
    },
    {
     "name": "stdout",
     "output_type": "stream",
     "text": [
      "\n"
     ]
    },
    {
     "data": {
      "application/vnd.jupyter.widget-view+json": {
       "model_id": "65d29165953e4c48b492d067adc9ff9e",
       "version_major": 2,
       "version_minor": 0
      },
      "text/plain": [
       "HBox(children=(FloatProgress(value=0.0, max=6001.0), HTML(value='')))"
      ]
     },
     "metadata": {},
     "output_type": "display_data"
    },
    {
     "name": "stdout",
     "output_type": "stream",
     "text": [
      "\n"
     ]
    }
   ],
   "source": [
    "#bpr_rec = BPRRecommender(prefilter_data_train, weighting=None, n_factors=75, regularization=0.01, iterations=100, num_threads=8)"
   ]
  },
  {
   "cell_type": "code",
   "execution_count": 39,
   "metadata": {},
   "outputs": [
    {
     "name": "stdout",
     "output_type": "stream",
     "text": [
      "Wall time: 8min 7s\n"
     ]
    }
   ],
   "source": [
    "#%%time\n",
    "#result_lvl_1['bpr_recs'] = result_lvl_1['user_id'].apply(lambda x: bpr_rec.get_main_model_recommendations(x, N=6000))"
   ]
  },
  {
   "cell_type": "code",
   "execution_count": 41,
   "metadata": {},
   "outputs": [
    {
     "data": {
      "text/plain": [
       "0.09491826956640702"
      ]
     },
     "execution_count": 41,
     "metadata": {},
     "output_type": "execute_result"
    }
   ],
   "source": [
    "#result_lvl_1 = postfilter_items(result_lvl_1, 'bpr_recs', item_features_with_prices, N=200)\n",
    "#recall_at_200_bpr = result_lvl_1.apply(lambda row: recall_at_k(row['postfilter_bpr_recs'], row['actual'], k=200), axis=1).mean()\n",
    "#recall_at_200_bpr  #0.09491826956640702"
   ]
  },
  {
   "cell_type": "code",
   "execution_count": 44,
   "metadata": {},
   "outputs": [],
   "source": [
    "top_n_list = [6000]\n",
    "weighting_list = [None]\n",
    "param_grid = {'n_factors': [75, 100], 'regularization': [0.005, 0.01], 'iterations': [100, 150, 200], 'num_threads': [8]}"
   ]
  },
  {
   "cell_type": "code",
   "execution_count": 49,
   "metadata": {},
   "outputs": [
    {
     "data": {
      "application/vnd.jupyter.widget-view+json": {
       "model_id": "d7101eed34bf4074a029a3cca484ba9c",
       "version_major": 2,
       "version_minor": 0
      },
      "text/plain": [
       "HBox(children=(FloatProgress(value=0.0), HTML(value='')))"
      ]
     },
     "metadata": {},
     "output_type": "display_data"
    },
    {
     "name": "stdout",
     "output_type": "stream",
     "text": [
      "\n"
     ]
    },
    {
     "data": {
      "application/vnd.jupyter.widget-view+json": {
       "model_id": "b8a98fcf2da649989dcff93aa3192210",
       "version_major": 2,
       "version_minor": 0
      },
      "text/plain": [
       "HBox(children=(FloatProgress(value=0.0, max=6001.0), HTML(value='')))"
      ]
     },
     "metadata": {},
     "output_type": "display_data"
    },
    {
     "name": "stdout",
     "output_type": "stream",
     "text": [
      "\n"
     ]
    }
   ],
   "source": [
    "als_rec_1 = MainRecommender(prefilter_data_train, weighting=None, n_factors=100, regularization=0.01, iterations=100, num_threads=8)"
   ]
  },
  {
   "cell_type": "code",
   "execution_count": 50,
   "metadata": {},
   "outputs": [
    {
     "name": "stdout",
     "output_type": "stream",
     "text": [
      "Wall time: 8min 41s\n"
     ]
    }
   ],
   "source": [
    "%%time\n",
    "result_lvl_1['als_recs'] = result_lvl_1['user_id'].apply(lambda x: als_rec_1.get_main_model_recommendations(x, N=6000))"
   ]
  },
  {
   "cell_type": "code",
   "execution_count": 51,
   "metadata": {},
   "outputs": [
    {
     "data": {
      "text/plain": [
       "0.13983039637329248"
      ]
     },
     "execution_count": 51,
     "metadata": {},
     "output_type": "execute_result"
    }
   ],
   "source": [
    "result_lvl_1 = postfilter_items(result_lvl_1, 'als_recs', item_features_with_prices, N=200)\n",
    "recall_at_200_als = result_lvl_1.apply(lambda row: recall_at_k(row['postfilter_als_recs'], row['actual'], k=200), axis=1).mean()\n",
    "recall_at_200_als"
   ]
  },
  {
   "cell_type": "code",
   "execution_count": 52,
   "metadata": {},
   "outputs": [
    {
     "data": {
      "text/html": [
       "<div>\n",
       "<style scoped>\n",
       "    .dataframe tbody tr th:only-of-type {\n",
       "        vertical-align: middle;\n",
       "    }\n",
       "\n",
       "    .dataframe tbody tr th {\n",
       "        vertical-align: top;\n",
       "    }\n",
       "\n",
       "    .dataframe thead th {\n",
       "        text-align: right;\n",
       "    }\n",
       "</style>\n",
       "<table border=\"1\" class=\"dataframe\">\n",
       "  <thead>\n",
       "    <tr style=\"text-align: right;\">\n",
       "      <th></th>\n",
       "      <th>item_id</th>\n",
       "      <th>manufacturer</th>\n",
       "      <th>department</th>\n",
       "      <th>brand</th>\n",
       "      <th>commodity_desc</th>\n",
       "      <th>sub_commodity_desc</th>\n",
       "      <th>curr_size_of_product</th>\n",
       "    </tr>\n",
       "  </thead>\n",
       "  <tbody>\n",
       "    <tr>\n",
       "      <th>0</th>\n",
       "      <td>25671</td>\n",
       "      <td>2</td>\n",
       "      <td>GROCERY</td>\n",
       "      <td>National</td>\n",
       "      <td>FRZN ICE</td>\n",
       "      <td>ICE - CRUSHED/CUBED</td>\n",
       "      <td>22 LB</td>\n",
       "    </tr>\n",
       "    <tr>\n",
       "      <th>1</th>\n",
       "      <td>26081</td>\n",
       "      <td>2</td>\n",
       "      <td>MISC. TRANS.</td>\n",
       "      <td>National</td>\n",
       "      <td>NO COMMODITY DESCRIPTION</td>\n",
       "      <td>NO SUBCOMMODITY DESCRIPTION</td>\n",
       "      <td></td>\n",
       "    </tr>\n",
       "    <tr>\n",
       "      <th>2</th>\n",
       "      <td>26093</td>\n",
       "      <td>69</td>\n",
       "      <td>PASTRY</td>\n",
       "      <td>Private</td>\n",
       "      <td>BREAD</td>\n",
       "      <td>BREAD:ITALIAN/FRENCH</td>\n",
       "      <td></td>\n",
       "    </tr>\n",
       "    <tr>\n",
       "      <th>3</th>\n",
       "      <td>26190</td>\n",
       "      <td>69</td>\n",
       "      <td>GROCERY</td>\n",
       "      <td>Private</td>\n",
       "      <td>FRUIT - SHELF STABLE</td>\n",
       "      <td>APPLE SAUCE</td>\n",
       "      <td>50 OZ</td>\n",
       "    </tr>\n",
       "    <tr>\n",
       "      <th>4</th>\n",
       "      <td>26355</td>\n",
       "      <td>69</td>\n",
       "      <td>GROCERY</td>\n",
       "      <td>Private</td>\n",
       "      <td>COOKIES/CONES</td>\n",
       "      <td>SPECIALTY COOKIES</td>\n",
       "      <td>14 OZ</td>\n",
       "    </tr>\n",
       "  </tbody>\n",
       "</table>\n",
       "</div>"
      ],
      "text/plain": [
       "   item_id  manufacturer    department     brand            commodity_desc  \\\n",
       "0    25671             2       GROCERY  National                  FRZN ICE   \n",
       "1    26081             2  MISC. TRANS.  National  NO COMMODITY DESCRIPTION   \n",
       "2    26093            69        PASTRY   Private                     BREAD   \n",
       "3    26190            69       GROCERY   Private      FRUIT - SHELF STABLE   \n",
       "4    26355            69       GROCERY   Private             COOKIES/CONES   \n",
       "\n",
       "            sub_commodity_desc curr_size_of_product  \n",
       "0          ICE - CRUSHED/CUBED                22 LB  \n",
       "1  NO SUBCOMMODITY DESCRIPTION                       \n",
       "2         BREAD:ITALIAN/FRENCH                       \n",
       "3                  APPLE SAUCE                50 OZ  \n",
       "4            SPECIALTY COOKIES                14 OZ  "
      ]
     },
     "execution_count": 52,
     "metadata": {},
     "output_type": "execute_result"
    }
   ],
   "source": [
    "item_features.head()"
   ]
  },
  {
   "cell_type": "code",
   "execution_count": 53,
   "metadata": {},
   "outputs": [
    {
     "data": {
      "text/plain": [
       "44"
      ]
     },
     "execution_count": 53,
     "metadata": {},
     "output_type": "execute_result"
    }
   ],
   "source": [
    "item_features['department'].nunique()"
   ]
  },
  {
   "cell_type": "code",
   "execution_count": 54,
   "metadata": {},
   "outputs": [
    {
     "data": {
      "text/html": [
       "<div>\n",
       "<style scoped>\n",
       "    .dataframe tbody tr th:only-of-type {\n",
       "        vertical-align: middle;\n",
       "    }\n",
       "\n",
       "    .dataframe tbody tr th {\n",
       "        vertical-align: top;\n",
       "    }\n",
       "\n",
       "    .dataframe thead th {\n",
       "        text-align: right;\n",
       "    }\n",
       "</style>\n",
       "<table border=\"1\" class=\"dataframe\">\n",
       "  <thead>\n",
       "    <tr style=\"text-align: right;\">\n",
       "      <th></th>\n",
       "      <th>user_id</th>\n",
       "      <th>basket_id</th>\n",
       "      <th>day</th>\n",
       "      <th>item_id</th>\n",
       "      <th>quantity</th>\n",
       "      <th>sales_value</th>\n",
       "      <th>store_id</th>\n",
       "      <th>retail_disc</th>\n",
       "      <th>trans_time</th>\n",
       "      <th>week_no</th>\n",
       "      <th>coupon_disc</th>\n",
       "      <th>coupon_match_disc</th>\n",
       "    </tr>\n",
       "  </thead>\n",
       "  <tbody>\n",
       "    <tr>\n",
       "      <th>0</th>\n",
       "      <td>2375</td>\n",
       "      <td>26984851472</td>\n",
       "      <td>1</td>\n",
       "      <td>1004906</td>\n",
       "      <td>1</td>\n",
       "      <td>1.39</td>\n",
       "      <td>364</td>\n",
       "      <td>-0.60</td>\n",
       "      <td>1631</td>\n",
       "      <td>1</td>\n",
       "      <td>0.0</td>\n",
       "      <td>0.0</td>\n",
       "    </tr>\n",
       "    <tr>\n",
       "      <th>1</th>\n",
       "      <td>2375</td>\n",
       "      <td>26984851472</td>\n",
       "      <td>1</td>\n",
       "      <td>1033142</td>\n",
       "      <td>1</td>\n",
       "      <td>0.82</td>\n",
       "      <td>364</td>\n",
       "      <td>0.00</td>\n",
       "      <td>1631</td>\n",
       "      <td>1</td>\n",
       "      <td>0.0</td>\n",
       "      <td>0.0</td>\n",
       "    </tr>\n",
       "    <tr>\n",
       "      <th>2</th>\n",
       "      <td>2375</td>\n",
       "      <td>26984851472</td>\n",
       "      <td>1</td>\n",
       "      <td>1036325</td>\n",
       "      <td>1</td>\n",
       "      <td>0.99</td>\n",
       "      <td>364</td>\n",
       "      <td>-0.30</td>\n",
       "      <td>1631</td>\n",
       "      <td>1</td>\n",
       "      <td>0.0</td>\n",
       "      <td>0.0</td>\n",
       "    </tr>\n",
       "    <tr>\n",
       "      <th>3</th>\n",
       "      <td>2375</td>\n",
       "      <td>26984851472</td>\n",
       "      <td>1</td>\n",
       "      <td>1082185</td>\n",
       "      <td>1</td>\n",
       "      <td>1.21</td>\n",
       "      <td>364</td>\n",
       "      <td>0.00</td>\n",
       "      <td>1631</td>\n",
       "      <td>1</td>\n",
       "      <td>0.0</td>\n",
       "      <td>0.0</td>\n",
       "    </tr>\n",
       "    <tr>\n",
       "      <th>4</th>\n",
       "      <td>2375</td>\n",
       "      <td>26984851472</td>\n",
       "      <td>1</td>\n",
       "      <td>8160430</td>\n",
       "      <td>1</td>\n",
       "      <td>1.50</td>\n",
       "      <td>364</td>\n",
       "      <td>-0.39</td>\n",
       "      <td>1631</td>\n",
       "      <td>1</td>\n",
       "      <td>0.0</td>\n",
       "      <td>0.0</td>\n",
       "    </tr>\n",
       "  </tbody>\n",
       "</table>\n",
       "</div>"
      ],
      "text/plain": [
       "   user_id    basket_id  day  item_id  quantity  sales_value  store_id  \\\n",
       "0     2375  26984851472    1  1004906         1         1.39       364   \n",
       "1     2375  26984851472    1  1033142         1         0.82       364   \n",
       "2     2375  26984851472    1  1036325         1         0.99       364   \n",
       "3     2375  26984851472    1  1082185         1         1.21       364   \n",
       "4     2375  26984851472    1  8160430         1         1.50       364   \n",
       "\n",
       "   retail_disc  trans_time  week_no  coupon_disc  coupon_match_disc  \n",
       "0        -0.60        1631        1          0.0                0.0  \n",
       "1         0.00        1631        1          0.0                0.0  \n",
       "2        -0.30        1631        1          0.0                0.0  \n",
       "3         0.00        1631        1          0.0                0.0  \n",
       "4        -0.39        1631        1          0.0                0.0  "
      ]
     },
     "execution_count": 54,
     "metadata": {},
     "output_type": "execute_result"
    }
   ],
   "source": [
    "data.head()"
   ]
  },
  {
   "cell_type": "code",
   "execution_count": 60,
   "metadata": {},
   "outputs": [
    {
     "data": {
      "text/plain": [
       "array(['GROCERY', 'MISC. TRANS.', 'PASTRY', 'DRUG GM', 'MEAT-PCKGD',\n",
       "       'SEAFOOD-PCKGD', 'PRODUCE', 'NUTRITION', 'DELI', 'COSMETICS',\n",
       "       'MEAT', 'FLORAL', 'TRAVEL & LEISUR', 'SEAFOOD', 'MISC SALES TRAN',\n",
       "       'SALAD BAR', 'KIOSK-GAS', 'ELECT &PLUMBING', 'GRO BAKERY',\n",
       "       'GM MERCH EXP', 'FROZEN GROCERY', 'COUP/STR & MFG', 'SPIRITS',\n",
       "       'GARDEN CENTER', 'TOYS', 'CHARITABLE CONT', 'RESTAURANT', 'RX',\n",
       "       'PROD-WHS SALES', 'MEAT-WHSE', 'DAIRY DELI', 'CHEF SHOPPE', 'HBC',\n",
       "       'DELI/SNACK BAR', 'PORK', 'AUTOMOTIVE', 'VIDEO RENTAL', ' ',\n",
       "       'CNTRL/STORE SUP', 'HOUSEWARES', 'POSTAL CENTER', 'PHOTO', 'VIDEO',\n",
       "       'PHARMACY SUPPLY'], dtype=object)"
      ]
     },
     "execution_count": 60,
     "metadata": {},
     "output_type": "execute_result"
    }
   ],
   "source": [
    "item_features['department'].unique()"
   ]
  },
  {
   "cell_type": "code",
   "execution_count": 64,
   "metadata": {},
   "outputs": [
    {
     "data": {
      "text/plain": [
       "array(['PRODUCE', 'GROCERY', 'DRUG GM', 'MEAT', 'MEAT-PCKGD', 'DELI',\n",
       "       'SEAFOOD-PCKGD', ' ', 'PASTRY', 'NUTRITION', 'VIDEO RENTAL',\n",
       "       'MISC SALES TRAN', 'FLORAL', 'SEAFOOD', 'SALAD BAR', 'AUTOMOTIVE',\n",
       "       'SPIRITS', 'COSMETICS', 'MISC. TRANS.', 'GARDEN CENTER',\n",
       "       'CHEF SHOPPE', 'TRAVEL & LEISUR', 'COUP/STR & MFG', 'KIOSK-GAS',\n",
       "       'FROZEN GROCERY', 'RESTAURANT', 'HOUSEWARES', 'PORK',\n",
       "       'POSTAL CENTER', 'GM MERCH EXP', 'CNTRL/STORE SUP',\n",
       "       'PROD-WHS SALES', 'DAIRY DELI', 'HBC', 'CHARITABLE CONT', 'RX',\n",
       "       'TOYS', 'PHOTO', 'DELI/SNACK BAR', 'GRO BAKERY', 'PHARMACY SUPPLY',\n",
       "       'ELECT &PLUMBING', 'MEAT-WHSE', 'VIDEO'], dtype=object)"
      ]
     },
     "execution_count": 64,
     "metadata": {},
     "output_type": "execute_result"
    }
   ],
   "source": [
    "item_user_categories = data[['user_id', 'item_id', 'quantity']].merge(item_features[['item_id', 'department']], on='item_id', how='left')\n",
    "item_user_categories['department'].unique()"
   ]
  },
  {
   "cell_type": "code",
   "execution_count": 106,
   "metadata": {},
   "outputs": [
    {
     "data": {
      "text/html": [
       "<div>\n",
       "<style scoped>\n",
       "    .dataframe tbody tr th:only-of-type {\n",
       "        vertical-align: middle;\n",
       "    }\n",
       "\n",
       "    .dataframe tbody tr th {\n",
       "        vertical-align: top;\n",
       "    }\n",
       "\n",
       "    .dataframe thead th {\n",
       "        text-align: right;\n",
       "    }\n",
       "</style>\n",
       "<table border=\"1\" class=\"dataframe\">\n",
       "  <thead>\n",
       "    <tr style=\"text-align: right;\">\n",
       "      <th></th>\n",
       "      <th>user_id</th>\n",
       "      <th>basket_id</th>\n",
       "      <th>day</th>\n",
       "      <th>item_id</th>\n",
       "      <th>quantity</th>\n",
       "      <th>sales_value</th>\n",
       "      <th>store_id</th>\n",
       "      <th>retail_disc</th>\n",
       "      <th>trans_time</th>\n",
       "      <th>week_no</th>\n",
       "      <th>coupon_disc</th>\n",
       "      <th>coupon_match_disc</th>\n",
       "    </tr>\n",
       "  </thead>\n",
       "  <tbody>\n",
       "    <tr>\n",
       "      <th>1755</th>\n",
       "      <td>1096</td>\n",
       "      <td>27031378941</td>\n",
       "      <td>6</td>\n",
       "      <td>913785</td>\n",
       "      <td>1</td>\n",
       "      <td>0.99</td>\n",
       "      <td>321</td>\n",
       "      <td>-1.00</td>\n",
       "      <td>40</td>\n",
       "      <td>2</td>\n",
       "      <td>0.0</td>\n",
       "      <td>0.0</td>\n",
       "    </tr>\n",
       "    <tr>\n",
       "      <th>1756</th>\n",
       "      <td>1096</td>\n",
       "      <td>27031378941</td>\n",
       "      <td>6</td>\n",
       "      <td>1082185</td>\n",
       "      <td>1</td>\n",
       "      <td>0.48</td>\n",
       "      <td>321</td>\n",
       "      <td>0.00</td>\n",
       "      <td>40</td>\n",
       "      <td>2</td>\n",
       "      <td>0.0</td>\n",
       "      <td>0.0</td>\n",
       "    </tr>\n",
       "    <tr>\n",
       "      <th>1757</th>\n",
       "      <td>1096</td>\n",
       "      <td>27031378941</td>\n",
       "      <td>6</td>\n",
       "      <td>1106523</td>\n",
       "      <td>1</td>\n",
       "      <td>2.32</td>\n",
       "      <td>321</td>\n",
       "      <td>0.00</td>\n",
       "      <td>40</td>\n",
       "      <td>2</td>\n",
       "      <td>0.0</td>\n",
       "      <td>0.0</td>\n",
       "    </tr>\n",
       "    <tr>\n",
       "      <th>1758</th>\n",
       "      <td>1096</td>\n",
       "      <td>27031378941</td>\n",
       "      <td>6</td>\n",
       "      <td>6533236</td>\n",
       "      <td>1</td>\n",
       "      <td>2.33</td>\n",
       "      <td>321</td>\n",
       "      <td>-1.66</td>\n",
       "      <td>40</td>\n",
       "      <td>2</td>\n",
       "      <td>0.0</td>\n",
       "      <td>0.0</td>\n",
       "    </tr>\n",
       "    <tr>\n",
       "      <th>1759</th>\n",
       "      <td>1096</td>\n",
       "      <td>27031378941</td>\n",
       "      <td>6</td>\n",
       "      <td>6773232</td>\n",
       "      <td>1</td>\n",
       "      <td>2.29</td>\n",
       "      <td>321</td>\n",
       "      <td>0.00</td>\n",
       "      <td>40</td>\n",
       "      <td>2</td>\n",
       "      <td>0.0</td>\n",
       "      <td>0.0</td>\n",
       "    </tr>\n",
       "  </tbody>\n",
       "</table>\n",
       "</div>"
      ],
      "text/plain": [
       "      user_id    basket_id  day  item_id  quantity  sales_value  store_id  \\\n",
       "1755     1096  27031378941    6   913785         1         0.99       321   \n",
       "1756     1096  27031378941    6  1082185         1         0.48       321   \n",
       "1757     1096  27031378941    6  1106523         1         2.32       321   \n",
       "1758     1096  27031378941    6  6533236         1         2.33       321   \n",
       "1759     1096  27031378941    6  6773232         1         2.29       321   \n",
       "\n",
       "      retail_disc  trans_time  week_no  coupon_disc  coupon_match_disc  \n",
       "1755        -1.00          40        2          0.0                0.0  \n",
       "1756         0.00          40        2          0.0                0.0  \n",
       "1757         0.00          40        2          0.0                0.0  \n",
       "1758        -1.66          40        2          0.0                0.0  \n",
       "1759         0.00          40        2          0.0                0.0  "
      ]
     },
     "execution_count": 106,
     "metadata": {},
     "output_type": "execute_result"
    }
   ],
   "source": [
    "k = pd.concat([data.loc[data['day']%6==0], data.loc[data['day']%7==0]])\n",
    "k.head()"
   ]
  },
  {
   "cell_type": "code",
   "execution_count": 120,
   "metadata": {},
   "outputs": [
    {
     "data": {
      "text/html": [
       "<div>\n",
       "<style scoped>\n",
       "    .dataframe tbody tr th:only-of-type {\n",
       "        vertical-align: middle;\n",
       "    }\n",
       "\n",
       "    .dataframe tbody tr th {\n",
       "        vertical-align: top;\n",
       "    }\n",
       "\n",
       "    .dataframe thead th {\n",
       "        text-align: right;\n",
       "    }\n",
       "</style>\n",
       "<table border=\"1\" class=\"dataframe\">\n",
       "  <thead>\n",
       "    <tr style=\"text-align: right;\">\n",
       "      <th></th>\n",
       "      <th>age_desc</th>\n",
       "      <th>marital_status_code</th>\n",
       "      <th>income_desc</th>\n",
       "      <th>homeowner_desc</th>\n",
       "      <th>hh_comp_desc</th>\n",
       "      <th>household_size_desc</th>\n",
       "      <th>kid_category_desc</th>\n",
       "      <th>user_id</th>\n",
       "    </tr>\n",
       "  </thead>\n",
       "  <tbody>\n",
       "    <tr>\n",
       "      <th>0</th>\n",
       "      <td>65+</td>\n",
       "      <td>A</td>\n",
       "      <td>35-49K</td>\n",
       "      <td>Homeowner</td>\n",
       "      <td>2 Adults No Kids</td>\n",
       "      <td>2</td>\n",
       "      <td>None/Unknown</td>\n",
       "      <td>1</td>\n",
       "    </tr>\n",
       "    <tr>\n",
       "      <th>1</th>\n",
       "      <td>45-54</td>\n",
       "      <td>A</td>\n",
       "      <td>50-74K</td>\n",
       "      <td>Homeowner</td>\n",
       "      <td>2 Adults No Kids</td>\n",
       "      <td>2</td>\n",
       "      <td>None/Unknown</td>\n",
       "      <td>7</td>\n",
       "    </tr>\n",
       "    <tr>\n",
       "      <th>2</th>\n",
       "      <td>25-34</td>\n",
       "      <td>U</td>\n",
       "      <td>25-34K</td>\n",
       "      <td>Unknown</td>\n",
       "      <td>2 Adults Kids</td>\n",
       "      <td>3</td>\n",
       "      <td>1</td>\n",
       "      <td>8</td>\n",
       "    </tr>\n",
       "    <tr>\n",
       "      <th>3</th>\n",
       "      <td>25-34</td>\n",
       "      <td>U</td>\n",
       "      <td>75-99K</td>\n",
       "      <td>Homeowner</td>\n",
       "      <td>2 Adults Kids</td>\n",
       "      <td>4</td>\n",
       "      <td>2</td>\n",
       "      <td>13</td>\n",
       "    </tr>\n",
       "    <tr>\n",
       "      <th>4</th>\n",
       "      <td>45-54</td>\n",
       "      <td>B</td>\n",
       "      <td>50-74K</td>\n",
       "      <td>Homeowner</td>\n",
       "      <td>Single Female</td>\n",
       "      <td>1</td>\n",
       "      <td>None/Unknown</td>\n",
       "      <td>16</td>\n",
       "    </tr>\n",
       "  </tbody>\n",
       "</table>\n",
       "</div>"
      ],
      "text/plain": [
       "  age_desc marital_status_code income_desc homeowner_desc      hh_comp_desc  \\\n",
       "0      65+                   A      35-49K      Homeowner  2 Adults No Kids   \n",
       "1    45-54                   A      50-74K      Homeowner  2 Adults No Kids   \n",
       "2    25-34                   U      25-34K        Unknown     2 Adults Kids   \n",
       "3    25-34                   U      75-99K      Homeowner     2 Adults Kids   \n",
       "4    45-54                   B      50-74K      Homeowner     Single Female   \n",
       "\n",
       "  household_size_desc kid_category_desc  user_id  \n",
       "0                   2      None/Unknown        1  \n",
       "1                   2      None/Unknown        7  \n",
       "2                   3                 1        8  \n",
       "3                   4                 2       13  \n",
       "4                   1      None/Unknown       16  "
      ]
     },
     "execution_count": 120,
     "metadata": {},
     "output_type": "execute_result"
    }
   ],
   "source": [
    "user_features.head()"
   ]
  },
  {
   "cell_type": "code",
   "execution_count": 121,
   "metadata": {},
   "outputs": [
    {
     "data": {
      "text/plain": [
       "801"
      ]
     },
     "execution_count": 121,
     "metadata": {},
     "output_type": "execute_result"
    }
   ],
   "source": [
    "user_features['user_id'].nunique()"
   ]
  },
  {
   "cell_type": "code",
   "execution_count": 129,
   "metadata": {},
   "outputs": [
    {
     "data": {
      "text/plain": [
       "18219"
      ]
     },
     "execution_count": 129,
     "metadata": {},
     "output_type": "execute_result"
    }
   ],
   "source": [
    "item_features_with_prices[item_features_with_prices['price'] >= 5]['item_id'].nunique()"
   ]
  },
  {
   "cell_type": "code",
   "execution_count": 131,
   "metadata": {},
   "outputs": [],
   "source": [
    "item_test = item_features.copy()"
   ]
  },
  {
   "cell_type": "code",
   "execution_count": 132,
   "metadata": {},
   "outputs": [],
   "source": [
    "item_test.replace(' ', np.nan, inplace=True)"
   ]
  },
  {
   "cell_type": "code",
   "execution_count": 133,
   "metadata": {},
   "outputs": [
    {
     "name": "stdout",
     "output_type": "stream",
     "text": [
      "<class 'pandas.core.frame.DataFrame'>\n",
      "RangeIndex: 92353 entries, 0 to 92352\n",
      "Data columns (total 7 columns):\n",
      " #   Column                Non-Null Count  Dtype \n",
      "---  ------                --------------  ----- \n",
      " 0   item_id               92353 non-null  int64 \n",
      " 1   manufacturer          92353 non-null  int64 \n",
      " 2   department            92338 non-null  object\n",
      " 3   brand                 92353 non-null  object\n",
      " 4   commodity_desc        92338 non-null  object\n",
      " 5   sub_commodity_desc    92338 non-null  object\n",
      " 6   curr_size_of_product  61746 non-null  object\n",
      "dtypes: int64(2), object(5)\n",
      "memory usage: 4.9+ MB\n"
     ]
    }
   ],
   "source": [
    "item_test.info()"
   ]
  },
  {
   "cell_type": "code",
   "execution_count": 134,
   "metadata": {},
   "outputs": [],
   "source": [
    "item_test['curr_size_of_product'].fillna('Unknown', inplace=True)"
   ]
  },
  {
   "cell_type": "code",
   "execution_count": 135,
   "metadata": {},
   "outputs": [
    {
     "name": "stdout",
     "output_type": "stream",
     "text": [
      "<class 'pandas.core.frame.DataFrame'>\n",
      "RangeIndex: 92353 entries, 0 to 92352\n",
      "Data columns (total 7 columns):\n",
      " #   Column                Non-Null Count  Dtype \n",
      "---  ------                --------------  ----- \n",
      " 0   item_id               92353 non-null  int64 \n",
      " 1   manufacturer          92353 non-null  int64 \n",
      " 2   department            92338 non-null  object\n",
      " 3   brand                 92353 non-null  object\n",
      " 4   commodity_desc        92338 non-null  object\n",
      " 5   sub_commodity_desc    92338 non-null  object\n",
      " 6   curr_size_of_product  92353 non-null  object\n",
      "dtypes: int64(2), object(5)\n",
      "memory usage: 4.9+ MB\n"
     ]
    }
   ],
   "source": [
    "item_test.info()"
   ]
  },
  {
   "cell_type": "code",
   "execution_count": 160,
   "metadata": {},
   "outputs": [
    {
     "data": {
      "text/html": [
       "<div>\n",
       "<style scoped>\n",
       "    .dataframe tbody tr th:only-of-type {\n",
       "        vertical-align: middle;\n",
       "    }\n",
       "\n",
       "    .dataframe tbody tr th {\n",
       "        vertical-align: top;\n",
       "    }\n",
       "\n",
       "    .dataframe thead th {\n",
       "        text-align: right;\n",
       "    }\n",
       "</style>\n",
       "<table border=\"1\" class=\"dataframe\">\n",
       "  <thead>\n",
       "    <tr style=\"text-align: right;\">\n",
       "      <th></th>\n",
       "      <th>user_id</th>\n",
       "      <th>actual</th>\n",
       "      <th>als_recs</th>\n",
       "      <th>prices_recommend</th>\n",
       "      <th>postfilter_als_recs</th>\n",
       "      <th>prices_recommend_postfilter</th>\n",
       "      <th>bpr_recs</th>\n",
       "      <th>postfilter_bpr_recs</th>\n",
       "    </tr>\n",
       "  </thead>\n",
       "  <tbody>\n",
       "    <tr>\n",
       "      <th>0</th>\n",
       "      <td>1</td>\n",
       "      <td>[853529, 865456, 867607, 872137, 874905, 87524...</td>\n",
       "      <td>[1100972, 5569374, 909268, 1105488, 965766, 10...</td>\n",
       "      <td>[2.1810317460317448, 3.0885897435897456, 2.017...</td>\n",
       "      <td>[1100972, 5569374, 909268, 1105488, 965766, 10...</td>\n",
       "      <td>[2.1810317460317448, 3.0885897435897456, 7.667...</td>\n",
       "      <td>[977658, 1128744, 896292, 1013895, 1115098, 95...</td>\n",
       "      <td>[977658, 1128744, 896292, 1013895, 954525, 923...</td>\n",
       "    </tr>\n",
       "    <tr>\n",
       "      <th>1</th>\n",
       "      <td>2</td>\n",
       "      <td>[15830248, 838136, 839656, 861272, 866211, 870...</td>\n",
       "      <td>[5569230, 1133018, 940947, 8090521, 1106523, 9...</td>\n",
       "      <td>[7.5499999999999705, 5.4060000000000015, 1.214...</td>\n",
       "      <td>[5569230, 1133018, 940947, 916122, 914190, 107...</td>\n",
       "      <td>[7.5499999999999705, 5.4060000000000015, 1.214...</td>\n",
       "      <td>[1068719, 5569845, 1004906, 5569230, 1042616, ...</td>\n",
       "      <td>[1068719, 5569845, 1004906, 1042616, 916122, 1...</td>\n",
       "    </tr>\n",
       "    <tr>\n",
       "      <th>2</th>\n",
       "      <td>4</td>\n",
       "      <td>[883932, 970760, 1035676, 1055863, 1097610, 67...</td>\n",
       "      <td>[1075368, 962229, 12301073, 5569230, 902172, 8...</td>\n",
       "      <td>[3.641684587813626, 2.895266666666666, 3.23040...</td>\n",
       "      <td>[1075368, 962229, 12301073, 5569230, 902172, 8...</td>\n",
       "      <td>[3.641684587813626, 2.895266666666666, 7.67382...</td>\n",
       "      <td>[902172, 1076161, 9677093, 929768, 1108994, 89...</td>\n",
       "      <td>[902172, 1076161, 9677093, 929768, 1108994, 89...</td>\n",
       "    </tr>\n",
       "    <tr>\n",
       "      <th>3</th>\n",
       "      <td>6</td>\n",
       "      <td>[1024306, 1102949, 6548453, 835394, 940804, 96...</td>\n",
       "      <td>[1000753, 1051516, 834826, 5585510, 1127179, 9...</td>\n",
       "      <td>[4.359743589743593, 2.945144230769237, 2.98254...</td>\n",
       "      <td>[1000753, 1051516, 834826, 5585510, 1127179, 9...</td>\n",
       "      <td>[4.359743589743593, 2.945144230769237, 8.33727...</td>\n",
       "      <td>[831557, 951834, 930118, 965267, 9926758, 1008...</td>\n",
       "      <td>[831557, 951834, 930118, 965267, 9926758, 1023...</td>\n",
       "    </tr>\n",
       "    <tr>\n",
       "      <th>4</th>\n",
       "      <td>7</td>\n",
       "      <td>[836281, 843306, 845294, 914190, 920456, 93886...</td>\n",
       "      <td>[1069312, 985999, 1101173, 916122, 12810393, 1...</td>\n",
       "      <td>[4.0226086956521785, 1.8193023255813947, 4.230...</td>\n",
       "      <td>[1069312, 985999, 1101173, 916122, 12810393, 1...</td>\n",
       "      <td>[4.0226086956521785, 1.8193023255813947, 9.980...</td>\n",
       "      <td>[5591154, 5981267, 844685, 1074172, 846634, 99...</td>\n",
       "      <td>[5591154, 5981267, 844685, 1074172, 846634, 87...</td>\n",
       "    </tr>\n",
       "  </tbody>\n",
       "</table>\n",
       "</div>"
      ],
      "text/plain": [
       "   user_id                                             actual  \\\n",
       "0        1  [853529, 865456, 867607, 872137, 874905, 87524...   \n",
       "1        2  [15830248, 838136, 839656, 861272, 866211, 870...   \n",
       "2        4  [883932, 970760, 1035676, 1055863, 1097610, 67...   \n",
       "3        6  [1024306, 1102949, 6548453, 835394, 940804, 96...   \n",
       "4        7  [836281, 843306, 845294, 914190, 920456, 93886...   \n",
       "\n",
       "                                            als_recs  \\\n",
       "0  [1100972, 5569374, 909268, 1105488, 965766, 10...   \n",
       "1  [5569230, 1133018, 940947, 8090521, 1106523, 9...   \n",
       "2  [1075368, 962229, 12301073, 5569230, 902172, 8...   \n",
       "3  [1000753, 1051516, 834826, 5585510, 1127179, 9...   \n",
       "4  [1069312, 985999, 1101173, 916122, 12810393, 1...   \n",
       "\n",
       "                                    prices_recommend  \\\n",
       "0  [2.1810317460317448, 3.0885897435897456, 2.017...   \n",
       "1  [7.5499999999999705, 5.4060000000000015, 1.214...   \n",
       "2  [3.641684587813626, 2.895266666666666, 3.23040...   \n",
       "3  [4.359743589743593, 2.945144230769237, 2.98254...   \n",
       "4  [4.0226086956521785, 1.8193023255813947, 4.230...   \n",
       "\n",
       "                                 postfilter_als_recs  \\\n",
       "0  [1100972, 5569374, 909268, 1105488, 965766, 10...   \n",
       "1  [5569230, 1133018, 940947, 916122, 914190, 107...   \n",
       "2  [1075368, 962229, 12301073, 5569230, 902172, 8...   \n",
       "3  [1000753, 1051516, 834826, 5585510, 1127179, 9...   \n",
       "4  [1069312, 985999, 1101173, 916122, 12810393, 1...   \n",
       "\n",
       "                         prices_recommend_postfilter  \\\n",
       "0  [2.1810317460317448, 3.0885897435897456, 7.667...   \n",
       "1  [7.5499999999999705, 5.4060000000000015, 1.214...   \n",
       "2  [3.641684587813626, 2.895266666666666, 7.67382...   \n",
       "3  [4.359743589743593, 2.945144230769237, 8.33727...   \n",
       "4  [4.0226086956521785, 1.8193023255813947, 9.980...   \n",
       "\n",
       "                                            bpr_recs  \\\n",
       "0  [977658, 1128744, 896292, 1013895, 1115098, 95...   \n",
       "1  [1068719, 5569845, 1004906, 5569230, 1042616, ...   \n",
       "2  [902172, 1076161, 9677093, 929768, 1108994, 89...   \n",
       "3  [831557, 951834, 930118, 965267, 9926758, 1008...   \n",
       "4  [5591154, 5981267, 844685, 1074172, 846634, 99...   \n",
       "\n",
       "                                 postfilter_bpr_recs  \n",
       "0  [977658, 1128744, 896292, 1013895, 954525, 923...  \n",
       "1  [1068719, 5569845, 1004906, 1042616, 916122, 1...  \n",
       "2  [902172, 1076161, 9677093, 929768, 1108994, 89...  \n",
       "3  [831557, 951834, 930118, 965267, 9926758, 1023...  \n",
       "4  [5591154, 5981267, 844685, 1074172, 846634, 87...  "
      ]
     },
     "execution_count": 160,
     "metadata": {},
     "output_type": "execute_result"
    }
   ],
   "source": [
    "result_lvl_1.head()"
   ]
  },
  {
   "cell_type": "code",
   "execution_count": 161,
   "metadata": {},
   "outputs": [],
   "source": [
    "result_lvl_1.rename(columns={'postfilter_als_recs': 'recommendations'}, inplace=True)"
   ]
  },
  {
   "cell_type": "code",
   "execution_count": 224,
   "metadata": {},
   "outputs": [],
   "source": [
    "class DataTransformer:\n",
    "    \"\"\"Класс для создания датасета для обучения модели второго уровня.\n",
    "    Датасет создается из четырех DataFrame'ов:\n",
    "    -DataFrame с рекомендациями товаров для каждого юзера. (Колонки 'user_id' и 'recommendations') (recommendations_df)\n",
    "    -DataFrame покупок (purchase_df)\n",
    "    -Item Features DataFrame\n",
    "    -User Features DataFrame\n",
    "    Новые фичи после преобразования:\n",
    "        Фичи user_id:\n",
    "        -Средний чек\n",
    "        -Средняя сумма покупки 1 товара в каждой sub_commodity_desc\n",
    "        -Средняя сумма покупки 1 товара в каждой commodity_desc\n",
    "        -Средняя сумма покупки 1 товара в каждом department\n",
    "        -Количество покупок в каждой sub_commodity_desc\n",
    "        -Количество покупок в каждой commodity_desc\n",
    "        -Количество покупок в каждом department\n",
    "        -Частотность покупок раз/месяц\n",
    "        -Доля покупок в выходные (кол-во айтемов в выходные/общее кол-во приобретенных айтемов)\n",
    "        -Средняя сумма покупок/месяц\n",
    "        -Среднее количество(quantity) покупаемых айтемов за одну покупку\n",
    "        Фичи item_id:\n",
    "        -Кол-во покупок в неделю\n",
    "        -Среднее кол-во покупок 1 товара в sub_commodity_desc в неделю\n",
    "        -Среднее кол-во покупок 1 товара в commodity_desc в неделю\n",
    "        -Цена товара\n",
    "        -Средняя цена товара в sub_commodity_desc\n",
    "        -Цена/Средняя цена товара в sub_commodity_desc\n",
    "        Фичи user_id-item_id:\n",
    "        -Средняя сумма покупки 1 товара в каждой sub_commodity_desc - Цена товара\n",
    "        -Средняя сумма покупки 1 товара в каждой commodity_desc - Цена товара\n",
    "        -Средняя сумма покупки 1 товара в каждом department - Цена товара\n",
    "        -Количество покупок в каждом department конкретного юзера в неделю - Среднее кол-во покупок всеми юзерами в department в неделю\"\"\"\n",
    "    def __init__(self):\n",
    "        pass\n",
    "\n",
    "    def _mean_check(self, purchase_df):\n",
    "        \"\"\"DataFrame для фичи Средний чек\"\"\"\n",
    "\n",
    "        mean_check_by_user = purchase_df.groupby(['user_id', 'basket_id'])['sales_value'].sum().reset_index().groupby('user_id')['sales_value'].mean().reset_index()\n",
    "        mean_check_by_user.rename(columns={'sales_value': 'mean_check'}, inplace=True)\n",
    "\n",
    "        return mean_check_by_user\n",
    "\n",
    "    def _mean_sum_purchase_sub_comm_desc(self, purchase_df, item_features):\n",
    "        \"\"\"DataFrame для фичи Средняя сумма покупки 1 товара в каждой sub_commodity_desc\"\"\"\n",
    "\n",
    "        data = purchase_df.merge(item_features, on='item_id', how='left')\n",
    "        data['price'] = data['sales_value']/data['quantity']\n",
    "        data.replace(np.inf, np.nan, inplace=True)\n",
    "        data.dropna(inplace=True)\n",
    "\n",
    "        result = data.groupby(['user_id', 'sub_commodity_desc'])['price'].mean().reset_index()\n",
    "        result.rename(columns={'price': 'mean_sum_purchase_sub_comm_desc'}, inplace=True)\n",
    "\n",
    "        return result\n",
    "\n",
    "    def _mean_sum_purchase_comm_desc(self, purchase_df, item_features):\n",
    "        \"\"\"DataFrame для фичи Средняя сумма покупки 1 товара в каждой commodity_desc\"\"\"\n",
    "\n",
    "        data = purchase_df.merge(item_features, on='item_id', how='left')\n",
    "        data['price'] = data['sales_value']/data['quantity']\n",
    "        data.replace(np.inf, np.nan, inplace=True)\n",
    "        data.dropna(inplace=True)\n",
    "\n",
    "        result = data.groupby(['user_id', 'commodity_desc'])['price'].mean().reset_index()\n",
    "        result.rename(columns={'price': 'mean_sum_purchase_comm_desc'}, inplace=True)\n",
    "\n",
    "        return result\n",
    "\n",
    "\n",
    "    def _mean_sum_purchase_department(self, purchase_df, item_features):\n",
    "        \"\"\"DataFrame для фичи Средняя сумма покупки 1 товара в каждом department\"\"\"\n",
    "\n",
    "        data = purchase_df.merge(item_features, on='item_id', how='left')\n",
    "        data['price'] = data['sales_value']/data['quantity']\n",
    "        data.replace(np.inf, np.nan, inplace=True)\n",
    "        data.dropna(inplace=True)\n",
    "\n",
    "        result = data.groupby(['user_id', 'department'])['price'].mean().reset_index()\n",
    "        result.rename(columns={'price': 'mean_sum_purchase_department'}, inplace=True)\n",
    "\n",
    "        return result\n",
    "\n",
    "\n",
    "    def _purchases_in_sub_comm_desc(self, purchase_df, item_features):\n",
    "        \"\"\"DataFrame для фичи Количество покупок в каждой sub_commodity_desc\"\"\"\n",
    "\n",
    "        data = purchase_df.merge(item_features, on='item_id', how='left')\n",
    "\n",
    "        result = data.groupby(['user_id', 'sub_commodity_desc'])['quantity'].sum().reset_index()\n",
    "        result.rename(columns={'quantity': 'purchases_in_sub_commodity_desc'}, inplace=True)\n",
    "\n",
    "        return result\n",
    "\n",
    "    def _purchases_in_comm_desc(self, purchase_df, item_features):\n",
    "        \"\"\"DataFrame для фичи Количество покупок в каждой commodity_desc\"\"\"\n",
    "\n",
    "        data = purchase_df.merge(item_features, on='item_id', how='left')\n",
    "\n",
    "        result = data.groupby(['user_id', 'commodity_desc'])['quantity'].sum().reset_index()\n",
    "        result.rename(columns={'quantity': 'purchases_in_commodity_desc'}, inplace=True)\n",
    "\n",
    "        return result\n",
    "\n",
    "\n",
    "    def _purchases_in_department(self, purchase_df, item_features):\n",
    "        \"\"\"DataFrame для фичи Количество покупок в каждом department\"\"\"\n",
    "\n",
    "        data = purchase_df.merge(item_features, on='item_id', how='left')\n",
    "\n",
    "        result = data.groupby(['user_id', 'department'])['quantity'].sum().reset_index()\n",
    "        result.rename(columns={'quantity': 'purchases_in_department'}, inplace=True)\n",
    "\n",
    "        return result\n",
    "\n",
    "    def _purchase_frequency(self, purchase_df):\n",
    "        \"\"\"DataFrame для фичи Частотность покупок раз/месяц\"\"\"\n",
    "\n",
    "        data = purchase_df.copy()\n",
    "\n",
    "        data['month'] = (data['day']-1)//30 + 1\n",
    "\n",
    "        data_grouped = data.groupby(['user_id', 'month'])['basket_id'].unique().reset_index()\n",
    "        data_grouped['frequency'] = data_grouped.apply(lambda row: len(row['basket_id']), axis=1)\n",
    "\n",
    "        result = data_grouped.groupby('user_id')['frequency'].mean().reset_index()\n",
    "\n",
    "        return result\n",
    "\n",
    "    def _weekend_purchases_frac(self, purchase_df):\n",
    "        \"\"\"DataFrame для фичи Доля покупок в выходные (кол-во айтемов в выходные/общее кол-во приобретенных айтемов)\"\"\"\n",
    "\n",
    "        result = purchase_df.groupby('user_id')['quantity'].sum().reset_index()\n",
    "        weekend_purchases = pd.concat([purchase_df.loc[purchase_df['day']%6==0], purchase_df.loc[purchase_df['day']%7==0]])\n",
    "        weekend_purchases = weekend_purchases.groupby('user_id')['quantity'].sum().reset_index()\n",
    "        weekend_purchases.rename(columns={'quantity': 'weekend_quantity'}, inplace=True)\n",
    "        result = result.merge(weekend_purchases, on='user_id', how='left')\n",
    "        result.fillna(0, inplace=True)\n",
    "        result['weekend_purchases_frac'] = result['weekend_quantity']/result['quantity']\n",
    "        result.drop(['quantity', 'weekend_quantity'], axis=1, inplace=True)\n",
    "\n",
    "        return result\n",
    "                \n",
    "    def _mean_sum_purchases_per_month(self, purchase_df):\n",
    "        \"\"\"\"DataFrame для фичи Средняя сумма покупок/месяц\"\"\"\n",
    "\n",
    "        data = purchase_df.copy()\n",
    "\n",
    "        data['month'] = (data['day']-1)//30 + 1\n",
    "        result = data.groupby(['user_id', 'month'])['sales_value'].sum().reset_index().groupby('user_id')['sales_value'].mean().reset_index()\n",
    "        result.rename(columns={'sales_value': 'mean_sum_purchases_per_month'}, inplace=True)\n",
    "\n",
    "        return result\n",
    "\n",
    "    def _mean_quantity_per_basket(self, purchase_df):\n",
    "        \"\"\"DataFrame для фичи Среднее количество(quantity) покупаемых айтемов за одну покупку\"\"\"\n",
    "\n",
    "        result = purchase_df.groupby(['user_id', 'basket_id'])['quantity'].sum().reset_index().groupby('user_id')['quantity'].mean().reset_index()\n",
    "        result.rename(columns={'quantity': 'mean_quantity_per_basket'}, inplace=True)\n",
    "\n",
    "        return result\n",
    "\n",
    "    def _mean_purchases(self, purchase_df):\n",
    "        \"\"\"DataFrame для фичи Кол-во покупок в неделю\"\"\"\n",
    "\n",
    "        result = purchase_df.groupby(['item_id', 'week_no'])['quantity'].sum().reset_index().groupby('item_id')['quantity'].mean().reset_index()\n",
    "        result.rename(columns={'quantity': 'mean_purchases'}, inplace=True)\n",
    "\n",
    "        return result\n",
    "\n",
    "    def _mean_item_purchases_per_sub_comm_desc(self, purchase_df, item_features):\n",
    "        \"\"\"DataFrame для фичи Среднее кол-во покупок 1 товара в sub_commodity_desc в неделю\"\"\"\n",
    "\n",
    "        data = purchase_df.merge(item_features, on='item_id', how='left')\n",
    "\n",
    "        result = data.groupby(['sub_commodity_desc', 'week_no'])['quantity'].sum().reset_index().groupby('sub_commodity_desc')['quantity'].mean().reset_index()\n",
    "        result.rename(columns={'quantity': 'mean_item_purchases_per_sub_comm_desc'}, inplace=True)\n",
    "\n",
    "        return result\n",
    "\n",
    "    def _mean_item_purchases_per_comm_desc(self, purchase_df, item_features):\n",
    "        \"\"\"DataFrame для фичи Среднее кол-во покупок 1 товара в commodity_desc в неделю\"\"\"\n",
    "\n",
    "        data = purchase_df.merge(item_features, on='item_id', how='left')\n",
    "\n",
    "        result = data.groupby(['commodity_desc', 'week_no'])['quantity'].sum().reset_index().groupby('commodity_desc')['quantity'].mean().reset_index()\n",
    "        result.rename(columns={'quantity': 'mean_item_purchases_per_comm_desc'}, inplace=True)\n",
    "\n",
    "        return result\n",
    "\n",
    "    def _item_price(self, purchase_df):\n",
    "        \"\"\"DataFrame для фичи Цена товара\"\"\"\n",
    "\n",
    "        data = purchase_df.copy()\n",
    "        data['price'] = data['sales_value']/data['quantity']\n",
    "        data.replace(np.inf, np.nan, inplace=True)\n",
    "        data.dropna(inplace=True)\n",
    "        result = data.groupby('item_id')['price'].mean().reset_index()\n",
    "\n",
    "        return result\n",
    "\n",
    "    def _mean_price_in_sub_comm_desc(self, purchase_df, item_features):\n",
    "        \"\"\"DataFrame для фичи Средняя цена товара в sub_commodity_desc\"\"\"\n",
    "\n",
    "        data = purchase_df.merge(item_features, on='item_id', how='left')\n",
    "\n",
    "        data['price'] = data['sales_value']/data['quantity']\n",
    "        data.replace(np.inf, np.nan, inplace=True)\n",
    "        data.dropna(inplace=True)\n",
    "\n",
    "        result = data.groupby('sub_commodity_desc')['price'].mean().reset_index()\n",
    "        result.rename(columns={'price': 'mean_price_in_sub_comm_desc'}, inplace=True)\n",
    "\n",
    "        return result\n",
    "\n",
    "    def _purchases_department_diff(self, purchase_df, item_features):\n",
    "        \"\"\"DataFrame для фичи Количество покупок в каждом department конкретного юзера в неделю - Среднее кол-во покупок всеми юзерами в department в неделю\"\"\"\n",
    "\n",
    "        data = purchase_df.merge(item_features, on='item_id', how='left')\n",
    "        all_users = data.groupby(['department', 'week_no'])['quantity'].sum().reset_index().groupby('department')['quantity'].mean().reset_index()\n",
    "        all_users.rename(columns={'quantity': 'all_users'}, inplace=True)\n",
    "        result = data.groupby(['user_id', 'department', 'week_no'])['quantity'].sum().reset_index().groupby(['user_id', 'department'])['quantity'].mean().reset_index()\n",
    "        result = result.merge(all_users, on='department', how='left')\n",
    "        result['purchases_department_diff'] = result['quantity'] - result['all_users']\n",
    "        result.drop(['quantity', 'all_users'], axis=1, inplace=True)\n",
    "\n",
    "        return result\n",
    "\n",
    "\n",
    "    def fit_transform(self, recommend_df, purchase_df, item_features, user_features, with_targets=False):\n",
    "        \n",
    "        item_features.columns = [col.lower() for col in item_features.columns]\n",
    "        user_features.columns = [col.lower() for col in user_features.columns]\n",
    "        if 'product_id' in item_features.columns:\n",
    "            item_features.rename(columns={'product_id': 'item_id'}, inplace=True)\n",
    "        if 'household_key' in user_features.columns:\n",
    "            user_features.rename(columns={'household_key': 'user_id'}, inplace=True)\n",
    "\n",
    "        item_features.replace(' ', np.nan, inplace=True)\n",
    "        item_features['curr_size_of_product'].fillna('Unknown', inplace=True)\n",
    "        item_features['department'].fillna('GROCERY', inplace=True)\n",
    "        item_features['commodity_desc'].fillna('BEERS/ALES', inplace=True)\n",
    "        item_features['sub_commodity_desc'].fillna('BEERALEMALT LIQUORS', inplace=True)\n",
    "\n",
    "        result = recommend_df.apply(lambda x: pd.Series(x['recommendations']), axis=1).stack().reset_index(level=1, drop=True)\n",
    "        result.name = 'item_id'\n",
    "        result = recommend_df[['user_id']].join(result)\n",
    "        if with_targets:\n",
    "            result['drop'] = 1\n",
    "            targets = purchase_df[['user_id', 'item_id']].copy()\n",
    "            targets['target'] = 1\n",
    "            result = result.merge(targets, on=['user_id', 'item_id'], how='left')\n",
    "            result['target'].fillna(0, inplace=True)\n",
    "            result.drop('drop', axis=1, inplace=True)\n",
    "\n",
    "        result = result.merge(item_features, on='item_id', how='left')\n",
    "        result = result.merge(user_features, on='user_id', how='left')\n",
    "        result.fillna('Uknown', inplace=True)\n",
    "\n",
    "        mean_check = self._mean_check(purchase_df)\n",
    "        result = result.merge(mean_check, on='user_id', how='left')\n",
    "\n",
    "        mean_sum_purchase_sub_comm_desc = self._mean_sum_purchase_sub_comm_desc(purchase_df, item_features)\n",
    "        result = result.merge(mean_sum_purchase_sub_comm_desc, on=['user_id', 'sub_commodity_desc'], how='left')\n",
    "\n",
    "        mean_sum_purchase_comm_desc = self._mean_sum_purchase_comm_desc(purchase_df, item_features)\n",
    "        result = result.merge(mean_sum_purchase_comm_desc, on=['user_id', 'commodity_desc'], how='left')\n",
    "\n",
    "        mean_sum_purchase_department = self._mean_sum_purchase_department(purchase_df, item_features)\n",
    "        result = result.merge(mean_sum_purchase_department, on=['user_id', 'department'], how='left')\n",
    "\n",
    "        purchases_in_sub_comm_desc = self._purchases_in_sub_comm_desc(purchase_df, item_features)\n",
    "        result = result.merge(purchases_in_sub_comm_desc, on=['user_id', 'sub_commodity_desc'], how='left')\n",
    "\n",
    "        purchases_in_comm_desc = self._purchases_in_comm_desc(purchase_df, item_features)\n",
    "        result = result.merge(purchases_in_comm_desc, on=['user_id', 'commodity_desc'], how='left')\n",
    "\n",
    "        purchases_in_department = self._purchases_in_department(purchase_df, item_features)\n",
    "        result = result.merge(purchases_in_department, on=['user_id', 'department'], how='left')\n",
    "\n",
    "        purchase_frequency = self._purchase_frequency(purchase_df)\n",
    "        result = result.merge(purchase_frequency, on='user_id', how='left')\n",
    "\n",
    "        weekend_purchases_frac = self._weekend_purchases_frac(purchase_df)\n",
    "        result = result.merge(weekend_purchases_frac, on='user_id', how='left')\n",
    "\n",
    "        mean_sum_purchases_per_month = self._mean_sum_purchases_per_month(purchase_df)\n",
    "        result = result.merge(mean_sum_purchases_per_month, on='user_id', how='left')\n",
    "\n",
    "        mean_quantity_per_basket = self._mean_quantity_per_basket(purchase_df)\n",
    "        result = result.merge(mean_quantity_per_basket, on='user_id', how='left')\n",
    "\n",
    "        mean_purchases = self._mean_purchases(purchase_df)\n",
    "        result = result.merge(mean_purchases, on='item_id', how='left') #тут могут быть Nan\n",
    "        result.fillna(0, inplace=True) \n",
    "\n",
    "        mean_item_purchases_per_sub_comm_desc = self._mean_item_purchases_per_sub_comm_desc(purchase_df, item_features)\n",
    "        result = result.merge(mean_item_purchases_per_sub_comm_desc, on='sub_commodity_desc', how='left') #и тут могут быть nan\n",
    "        result.fillna(0, inplace=True) \n",
    "\n",
    "        mean_item_purchases_per_comm_desc = self._mean_item_purchases_per_comm_desc(purchase_df, item_features)\n",
    "        result = result.merge(mean_item_purchases_per_comm_desc, on='commodity_desc', how='left')\n",
    "        result.fillna(0, inplace=True)\n",
    "\n",
    "        item_price = self._item_price(purchase_df)\n",
    "        result = result.merge(item_price, on='item_id', how='left')\n",
    "        result.fillna(result['price'].mean(), inplace=True)\n",
    "\n",
    "        mean_price_in_sub_comm_desc = self._mean_price_in_sub_comm_desc(purchase_df, item_features)\n",
    "        result = result.merge(mean_price_in_sub_comm_desc, on='sub_commodity_desc', how='left')\n",
    "        result.fillna(result['mean_price_in_sub_comm_desc'].mean(), inplace=True)\n",
    "\n",
    "        purchases_department_diff = self._purchases_department_diff(purchase_df, item_features)\n",
    "        result = result.merge(purchases_department_diff, on=['user_id', 'department'], how='left')\n",
    "        result.fillna(min(result['purchases_department_diff']), inplace=True)\n",
    "\n",
    "        result['price/mean_price_sub_comm_desc'] = result['price']/result['mean_price_in_sub_comm_desc']\n",
    "        result['mean_sum_sub_comm_desc-price'] = result['mean_sum_purchase_sub_comm_desc'] - result['price']\n",
    "        result['mean_sum_comm_desc-price'] = result['mean_sum_purchase_comm_desc'] - result['price']\n",
    "        result['mean_sum_department-price'] = result['mean_sum_purchase_department'] - result['price']\n",
    "\n",
    "        return result"
   ]
  },
  {
   "cell_type": "code",
   "execution_count": 225,
   "metadata": {},
   "outputs": [],
   "source": [
    "trans = DataTransformer()"
   ]
  },
  {
   "cell_type": "code",
   "execution_count": 226,
   "metadata": {},
   "outputs": [
    {
     "data": {
      "text/plain": [
       "(2154, 8)"
      ]
     },
     "execution_count": 226,
     "metadata": {},
     "output_type": "execute_result"
    }
   ],
   "source": [
    "result_lvl_1.shape"
   ]
  },
  {
   "cell_type": "code",
   "execution_count": 227,
   "metadata": {},
   "outputs": [
    {
     "name": "stdout",
     "output_type": "stream",
     "text": [
      "Wall time: 10.2 s\n"
     ]
    }
   ],
   "source": [
    "%%time\n",
    "train_lvl_2_2 = trans.fit_transform(result_lvl_1, data_train_lvl_2, item_features, user_features, with_targets=True)"
   ]
  },
  {
   "cell_type": "code",
   "execution_count": null,
   "metadata": {},
   "outputs": [],
   "source": []
  }
 ],
 "metadata": {
  "kernelspec": {
   "display_name": "Python 3",
   "language": "python",
   "name": "python3"
  },
  "language_info": {
   "codemirror_mode": {
    "name": "ipython",
    "version": 3
   },
   "file_extension": ".py",
   "mimetype": "text/x-python",
   "name": "python",
   "nbconvert_exporter": "python",
   "pygments_lexer": "ipython3",
   "version": "3.8.3"
  }
 },
 "nbformat": 4,
 "nbformat_minor": 4
}
